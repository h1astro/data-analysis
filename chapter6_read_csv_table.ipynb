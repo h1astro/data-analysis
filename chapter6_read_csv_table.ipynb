{
 "cells": [
  {
   "cell_type": "code",
   "execution_count": 1,
   "metadata": {},
   "outputs": [
    {
     "name": "stdout",
     "output_type": "stream",
     "text": [
      "a,b,c,d,message\n",
      "1,2,3,4,hello\n",
      "5,6,7,8,world\n",
      "9,10,11,12,foo\n"
     ]
    }
   ],
   "source": [
    "!cat examples.csv"
   ]
  },
  {
   "cell_type": "code",
   "execution_count": 1,
   "metadata": {},
   "outputs": [],
   "source": [
    "import pandas as pd"
   ]
  },
  {
   "cell_type": "code",
   "execution_count": 3,
   "metadata": {},
   "outputs": [],
   "source": [
    "df=pd.read_csv('examples.csv')"
   ]
  },
  {
   "cell_type": "code",
   "execution_count": 4,
   "metadata": {},
   "outputs": [
    {
     "data": {
      "text/html": [
       "<div>\n",
       "<style scoped>\n",
       "    .dataframe tbody tr th:only-of-type {\n",
       "        vertical-align: middle;\n",
       "    }\n",
       "\n",
       "    .dataframe tbody tr th {\n",
       "        vertical-align: top;\n",
       "    }\n",
       "\n",
       "    .dataframe thead th {\n",
       "        text-align: right;\n",
       "    }\n",
       "</style>\n",
       "<table border=\"1\" class=\"dataframe\">\n",
       "  <thead>\n",
       "    <tr style=\"text-align: right;\">\n",
       "      <th></th>\n",
       "      <th>a</th>\n",
       "      <th>b</th>\n",
       "      <th>c</th>\n",
       "      <th>d</th>\n",
       "      <th>message</th>\n",
       "    </tr>\n",
       "  </thead>\n",
       "  <tbody>\n",
       "    <tr>\n",
       "      <th>0</th>\n",
       "      <td>1</td>\n",
       "      <td>2</td>\n",
       "      <td>3</td>\n",
       "      <td>4</td>\n",
       "      <td>hello</td>\n",
       "    </tr>\n",
       "    <tr>\n",
       "      <th>1</th>\n",
       "      <td>5</td>\n",
       "      <td>6</td>\n",
       "      <td>7</td>\n",
       "      <td>8</td>\n",
       "      <td>world</td>\n",
       "    </tr>\n",
       "    <tr>\n",
       "      <th>2</th>\n",
       "      <td>9</td>\n",
       "      <td>10</td>\n",
       "      <td>11</td>\n",
       "      <td>12</td>\n",
       "      <td>foo</td>\n",
       "    </tr>\n",
       "  </tbody>\n",
       "</table>\n",
       "</div>"
      ],
      "text/plain": [
       "   a   b   c   d message\n",
       "0  1   2   3   4   hello\n",
       "1  5   6   7   8   world\n",
       "2  9  10  11  12     foo"
      ]
     },
     "execution_count": 4,
     "metadata": {},
     "output_type": "execute_result"
    }
   ],
   "source": [
    "df"
   ]
  },
  {
   "cell_type": "code",
   "execution_count": 6,
   "metadata": {},
   "outputs": [
    {
     "name": "stderr",
     "output_type": "stream",
     "text": [
      "D:\\Anaconda3\\lib\\site-packages\\ipykernel_launcher.py:1: FutureWarning: read_table is deprecated, use read_csv instead.\n",
      "  \"\"\"Entry point for launching an IPython kernel.\n"
     ]
    },
    {
     "data": {
      "text/html": [
       "<div>\n",
       "<style scoped>\n",
       "    .dataframe tbody tr th:only-of-type {\n",
       "        vertical-align: middle;\n",
       "    }\n",
       "\n",
       "    .dataframe tbody tr th {\n",
       "        vertical-align: top;\n",
       "    }\n",
       "\n",
       "    .dataframe thead th {\n",
       "        text-align: right;\n",
       "    }\n",
       "</style>\n",
       "<table border=\"1\" class=\"dataframe\">\n",
       "  <thead>\n",
       "    <tr style=\"text-align: right;\">\n",
       "      <th></th>\n",
       "      <th>a</th>\n",
       "      <th>b</th>\n",
       "      <th>c</th>\n",
       "      <th>d</th>\n",
       "      <th>message</th>\n",
       "    </tr>\n",
       "  </thead>\n",
       "  <tbody>\n",
       "    <tr>\n",
       "      <th>0</th>\n",
       "      <td>1</td>\n",
       "      <td>2</td>\n",
       "      <td>3</td>\n",
       "      <td>4</td>\n",
       "      <td>hello</td>\n",
       "    </tr>\n",
       "    <tr>\n",
       "      <th>1</th>\n",
       "      <td>5</td>\n",
       "      <td>6</td>\n",
       "      <td>7</td>\n",
       "      <td>8</td>\n",
       "      <td>world</td>\n",
       "    </tr>\n",
       "    <tr>\n",
       "      <th>2</th>\n",
       "      <td>9</td>\n",
       "      <td>10</td>\n",
       "      <td>11</td>\n",
       "      <td>12</td>\n",
       "      <td>foo</td>\n",
       "    </tr>\n",
       "  </tbody>\n",
       "</table>\n",
       "</div>"
      ],
      "text/plain": [
       "   a   b   c   d message\n",
       "0  1   2   3   4   hello\n",
       "1  5   6   7   8   world\n",
       "2  9  10  11  12     foo"
      ]
     },
     "execution_count": 6,
     "metadata": {},
     "output_type": "execute_result"
    }
   ],
   "source": [
    "pd.read_table('examples.csv',sep=',')"
   ]
  },
  {
   "cell_type": "code",
   "execution_count": 2,
   "metadata": {},
   "outputs": [],
   "source": [
    "names=['a','b','c','d','message']"
   ]
  },
  {
   "cell_type": "code",
   "execution_count": 3,
   "metadata": {},
   "outputs": [
    {
     "data": {
      "text/html": [
       "<div>\n",
       "<style scoped>\n",
       "    .dataframe tbody tr th:only-of-type {\n",
       "        vertical-align: middle;\n",
       "    }\n",
       "\n",
       "    .dataframe tbody tr th {\n",
       "        vertical-align: top;\n",
       "    }\n",
       "\n",
       "    .dataframe thead th {\n",
       "        text-align: right;\n",
       "    }\n",
       "</style>\n",
       "<table border=\"1\" class=\"dataframe\">\n",
       "  <thead>\n",
       "    <tr style=\"text-align: right;\">\n",
       "      <th></th>\n",
       "      <th>a</th>\n",
       "      <th>b</th>\n",
       "      <th>c</th>\n",
       "      <th>d</th>\n",
       "    </tr>\n",
       "    <tr>\n",
       "      <th>message</th>\n",
       "      <th></th>\n",
       "      <th></th>\n",
       "      <th></th>\n",
       "      <th></th>\n",
       "    </tr>\n",
       "  </thead>\n",
       "  <tbody>\n",
       "    <tr>\n",
       "      <th>message</th>\n",
       "      <td>a</td>\n",
       "      <td>b</td>\n",
       "      <td>c</td>\n",
       "      <td>d</td>\n",
       "    </tr>\n",
       "    <tr>\n",
       "      <th>hello</th>\n",
       "      <td>1</td>\n",
       "      <td>2</td>\n",
       "      <td>3</td>\n",
       "      <td>4</td>\n",
       "    </tr>\n",
       "    <tr>\n",
       "      <th>world</th>\n",
       "      <td>5</td>\n",
       "      <td>6</td>\n",
       "      <td>7</td>\n",
       "      <td>8</td>\n",
       "    </tr>\n",
       "    <tr>\n",
       "      <th>foo</th>\n",
       "      <td>9</td>\n",
       "      <td>10</td>\n",
       "      <td>11</td>\n",
       "      <td>12</td>\n",
       "    </tr>\n",
       "  </tbody>\n",
       "</table>\n",
       "</div>"
      ],
      "text/plain": [
       "         a   b   c   d\n",
       "message               \n",
       "message  a   b   c   d\n",
       "hello    1   2   3   4\n",
       "world    5   6   7   8\n",
       "foo      9  10  11  12"
      ]
     },
     "execution_count": 3,
     "metadata": {},
     "output_type": "execute_result"
    }
   ],
   "source": [
    "pd.read_csv('examples.csv',names=names,index_col='message')"
   ]
  },
  {
   "cell_type": "code",
   "execution_count": 4,
   "metadata": {},
   "outputs": [],
   "source": [
    "pd.options.display.max_rows=10"
   ]
  },
  {
   "cell_type": "code",
   "execution_count": 5,
   "metadata": {},
   "outputs": [
    {
     "data": {
      "text/html": [
       "<div>\n",
       "<style scoped>\n",
       "    .dataframe tbody tr th:only-of-type {\n",
       "        vertical-align: middle;\n",
       "    }\n",
       "\n",
       "    .dataframe tbody tr th {\n",
       "        vertical-align: top;\n",
       "    }\n",
       "\n",
       "    .dataframe thead th {\n",
       "        text-align: right;\n",
       "    }\n",
       "</style>\n",
       "<table border=\"1\" class=\"dataframe\">\n",
       "  <thead>\n",
       "    <tr style=\"text-align: right;\">\n",
       "      <th></th>\n",
       "      <th>a</th>\n",
       "      <th>b</th>\n",
       "      <th>c</th>\n",
       "      <th>d</th>\n",
       "      <th>message</th>\n",
       "    </tr>\n",
       "  </thead>\n",
       "  <tbody>\n",
       "    <tr>\n",
       "      <th>0</th>\n",
       "      <td>1</td>\n",
       "      <td>2</td>\n",
       "      <td>3</td>\n",
       "      <td>4</td>\n",
       "      <td>hello</td>\n",
       "    </tr>\n",
       "    <tr>\n",
       "      <th>1</th>\n",
       "      <td>5</td>\n",
       "      <td>6</td>\n",
       "      <td>7</td>\n",
       "      <td>8</td>\n",
       "      <td>world</td>\n",
       "    </tr>\n",
       "    <tr>\n",
       "      <th>2</th>\n",
       "      <td>9</td>\n",
       "      <td>10</td>\n",
       "      <td>11</td>\n",
       "      <td>12</td>\n",
       "      <td>foo</td>\n",
       "    </tr>\n",
       "    <tr>\n",
       "      <th>3</th>\n",
       "      <td>a</td>\n",
       "      <td>b</td>\n",
       "      <td>c</td>\n",
       "      <td>d</td>\n",
       "      <td>message</td>\n",
       "    </tr>\n",
       "    <tr>\n",
       "      <th>4</th>\n",
       "      <td>1</td>\n",
       "      <td>2</td>\n",
       "      <td>3</td>\n",
       "      <td>4</td>\n",
       "      <td>hello</td>\n",
       "    </tr>\n",
       "    <tr>\n",
       "      <th>...</th>\n",
       "      <td>...</td>\n",
       "      <td>...</td>\n",
       "      <td>...</td>\n",
       "      <td>...</td>\n",
       "      <td>...</td>\n",
       "    </tr>\n",
       "    <tr>\n",
       "      <th>62</th>\n",
       "      <td>9</td>\n",
       "      <td>10</td>\n",
       "      <td>11</td>\n",
       "      <td>12</td>\n",
       "      <td>foo</td>\n",
       "    </tr>\n",
       "    <tr>\n",
       "      <th>63</th>\n",
       "      <td>a</td>\n",
       "      <td>b</td>\n",
       "      <td>c</td>\n",
       "      <td>d</td>\n",
       "      <td>message</td>\n",
       "    </tr>\n",
       "    <tr>\n",
       "      <th>64</th>\n",
       "      <td>1</td>\n",
       "      <td>2</td>\n",
       "      <td>3</td>\n",
       "      <td>4</td>\n",
       "      <td>hello</td>\n",
       "    </tr>\n",
       "    <tr>\n",
       "      <th>65</th>\n",
       "      <td>5</td>\n",
       "      <td>6</td>\n",
       "      <td>7</td>\n",
       "      <td>8</td>\n",
       "      <td>world</td>\n",
       "    </tr>\n",
       "    <tr>\n",
       "      <th>66</th>\n",
       "      <td>9</td>\n",
       "      <td>10</td>\n",
       "      <td>11</td>\n",
       "      <td>12</td>\n",
       "      <td>foo</td>\n",
       "    </tr>\n",
       "  </tbody>\n",
       "</table>\n",
       "<p>67 rows × 5 columns</p>\n",
       "</div>"
      ],
      "text/plain": [
       "    a   b   c   d  message\n",
       "0   1   2   3   4    hello\n",
       "1   5   6   7   8    world\n",
       "2   9  10  11  12      foo\n",
       "3   a   b   c   d  message\n",
       "4   1   2   3   4    hello\n",
       ".. ..  ..  ..  ..      ...\n",
       "62  9  10  11  12      foo\n",
       "63  a   b   c   d  message\n",
       "64  1   2   3   4    hello\n",
       "65  5   6   7   8    world\n",
       "66  9  10  11  12      foo\n",
       "\n",
       "[67 rows x 5 columns]"
      ]
     },
     "execution_count": 5,
     "metadata": {},
     "output_type": "execute_result"
    }
   ],
   "source": [
    "res=pd.read_csv('examples2.csv')\n",
    "res"
   ]
  },
  {
   "cell_type": "code",
   "execution_count": 6,
   "metadata": {},
   "outputs": [
    {
     "data": {
      "text/html": [
       "<div>\n",
       "<style scoped>\n",
       "    .dataframe tbody tr th:only-of-type {\n",
       "        vertical-align: middle;\n",
       "    }\n",
       "\n",
       "    .dataframe tbody tr th {\n",
       "        vertical-align: top;\n",
       "    }\n",
       "\n",
       "    .dataframe thead th {\n",
       "        text-align: right;\n",
       "    }\n",
       "</style>\n",
       "<table border=\"1\" class=\"dataframe\">\n",
       "  <thead>\n",
       "    <tr style=\"text-align: right;\">\n",
       "      <th></th>\n",
       "      <th>a</th>\n",
       "      <th>b</th>\n",
       "      <th>c</th>\n",
       "      <th>d</th>\n",
       "      <th>message</th>\n",
       "    </tr>\n",
       "  </thead>\n",
       "  <tbody>\n",
       "    <tr>\n",
       "      <th>0</th>\n",
       "      <td>1</td>\n",
       "      <td>2</td>\n",
       "      <td>3</td>\n",
       "      <td>4</td>\n",
       "      <td>hello</td>\n",
       "    </tr>\n",
       "    <tr>\n",
       "      <th>1</th>\n",
       "      <td>5</td>\n",
       "      <td>6</td>\n",
       "      <td>7</td>\n",
       "      <td>8</td>\n",
       "      <td>world</td>\n",
       "    </tr>\n",
       "    <tr>\n",
       "      <th>2</th>\n",
       "      <td>9</td>\n",
       "      <td>10</td>\n",
       "      <td>11</td>\n",
       "      <td>12</td>\n",
       "      <td>foo</td>\n",
       "    </tr>\n",
       "    <tr>\n",
       "      <th>3</th>\n",
       "      <td>a</td>\n",
       "      <td>b</td>\n",
       "      <td>c</td>\n",
       "      <td>d</td>\n",
       "      <td>message</td>\n",
       "    </tr>\n",
       "    <tr>\n",
       "      <th>4</th>\n",
       "      <td>1</td>\n",
       "      <td>2</td>\n",
       "      <td>3</td>\n",
       "      <td>4</td>\n",
       "      <td>hello</td>\n",
       "    </tr>\n",
       "  </tbody>\n",
       "</table>\n",
       "</div>"
      ],
      "text/plain": [
       "   a   b   c   d  message\n",
       "0  1   2   3   4    hello\n",
       "1  5   6   7   8    world\n",
       "2  9  10  11  12      foo\n",
       "3  a   b   c   d  message\n",
       "4  1   2   3   4    hello"
      ]
     },
     "execution_count": 6,
     "metadata": {},
     "output_type": "execute_result"
    }
   ],
   "source": [
    "pd.read_csv('examples2.csv',nrows=5)"
   ]
  },
  {
   "cell_type": "code",
   "execution_count": 7,
   "metadata": {},
   "outputs": [],
   "source": [
    "import sys"
   ]
  },
  {
   "cell_type": "code",
   "execution_count": 8,
   "metadata": {},
   "outputs": [
    {
     "name": "stdout",
     "output_type": "stream",
     "text": [
      "|a|b|c|d|message\r\n",
      "0|1|2|3|4|hello\r\n",
      "1|5|6|7|8|world\r\n",
      "2|9|10|11|12|foo\r\n",
      "3|a|b|c|d|message\r\n",
      "4|1|2|3|4|hello\r\n",
      "5|5|6|7|8|world\r\n",
      "6|9|10|11|12|foo\r\n",
      "7|a|b|c|d|message\r\n",
      "8|1|2|3|4|hello\r\n",
      "9|5|6|7|8|world\r\n",
      "10|9|10|11|12|foo\r\n",
      "11|a|b|c|d|message\r\n",
      "12|1|2|3|4|hello\r\n",
      "13|5|6|7|8|world\r\n",
      "14|9|10|11|12|foo\r\n",
      "15|a|b|c|d|message\r\n",
      "16|1|2|3|4|hello\r\n",
      "17|5|6|7|8|world\r\n",
      "18|9|10|11|12|foo\r\n",
      "19|a|b|c|d|message\r\n",
      "20|1|2|3|4|hello\r\n",
      "21|5|6|7|8|world\r\n",
      "22|9|10|11|12|foo\r\n",
      "23|a|b|c|d|message\r\n",
      "24|1|2|3|4|hello\r\n",
      "25|5|6|7|8|world\r\n",
      "26|9|10|11|12|foo\r\n",
      "27|a|b|c|d|message\r\n",
      "28|1|2|3|4|hello\r\n",
      "29|5|6|7|8|world\r\n",
      "30|9|10|11|12|foo\r\n",
      "31|a|b|c|d|message\r\n",
      "32|1|2|3|4|hello\r\n",
      "33|5|6|7|8|world\r\n",
      "34|9|10|11|12|foo\r\n",
      "35|a|b|c|d|message\r\n",
      "36|1|2|3|4|hello\r\n",
      "37|5|6|7|8|world\r\n",
      "38|9|10|11|12|foo\r\n",
      "39|a|b|c|d|message\r\n",
      "40|1|2|3|4|hello\r\n",
      "41|5|6|7|8|world\r\n",
      "42|9|10|11|12|foo\r\n",
      "43|a|b|c|d|message\r\n",
      "44|1|2|3|4|hello\r\n",
      "45|5|6|7|8|world\r\n",
      "46|9|10|11|12|foo\r\n",
      "47|a|b|c|d|message\r\n",
      "48|1|2|3|4|hello\r\n",
      "49|5|6|7|8|world\r\n",
      "50|9|10|11|12|foo\r\n",
      "51|a|b|c|d|message\r\n",
      "52|1|2|3|4|hello\r\n",
      "53|5|6|7|8|world\r\n",
      "54|9|10|11|12|foo\r\n",
      "55|a|b|c|d|message\r\n",
      "56|1|2|3|4|hello\r\n",
      "57|5|6|7|8|world\r\n",
      "58|9|10|11|12|foo\r\n",
      "59|a|b|c|d|message\r\n",
      "60|1|2|3|4|hello\r\n",
      "61|5|6|7|8|world\r\n",
      "62|9|10|11|12|foo\r\n",
      "63|a|b|c|d|message\r\n",
      "64|1|2|3|4|hello\r\n",
      "65|5|6|7|8|world\r\n",
      "66|9|10|11|12|foo\r\n"
     ]
    }
   ],
   "source": [
    "res.to_csv(sys.stdout,sep=\"|\")"
   ]
  },
  {
   "cell_type": "code",
   "execution_count": 10,
   "metadata": {},
   "outputs": [
    {
     "data": {
      "text/plain": [
       "DatetimeIndex(['2000-01-01', '2000-01-02', '2000-01-03', '2000-01-04',\n",
       "               '2000-01-05', '2000-01-06', '2000-01-07'],\n",
       "              dtype='datetime64[ns]', freq='D')"
      ]
     },
     "execution_count": 10,
     "metadata": {},
     "output_type": "execute_result"
    }
   ],
   "source": [
    "dates=pd.date_range('1/1/2000',periods=7)\n",
    "dates"
   ]
  },
  {
   "cell_type": "code",
   "execution_count": 12,
   "metadata": {},
   "outputs": [],
   "source": [
    "import numpy as np\n",
    "ts=pd.Series(np.arange(7),index=dates)"
   ]
  },
  {
   "cell_type": "code",
   "execution_count": 13,
   "metadata": {},
   "outputs": [
    {
     "name": "stderr",
     "output_type": "stream",
     "text": [
      "D:\\Anaconda3\\lib\\site-packages\\ipykernel_launcher.py:1: FutureWarning: The signature of `Series.to_csv` was aligned to that of `DataFrame.to_csv`, and argument 'header' will change its default value from False to True: please pass an explicit value to suppress this warning.\n",
      "  \"\"\"Entry point for launching an IPython kernel.\n"
     ]
    }
   ],
   "source": [
    "ts.to_csv('examples3.csv')"
   ]
  },
  {
   "cell_type": "code",
   "execution_count": 14,
   "metadata": {},
   "outputs": [
    {
     "name": "stdout",
     "output_type": "stream",
     "text": [
      "2000-01-01,0\n",
      "2000-01-02,1\n",
      "2000-01-03,2\n",
      "2000-01-04,3\n",
      "2000-01-05,4\n",
      "2000-01-06,5\n",
      "2000-01-07,6\n"
     ]
    }
   ],
   "source": [
    "!cat examples3.csv"
   ]
  },
  {
   "cell_type": "code",
   "execution_count": 15,
   "metadata": {},
   "outputs": [],
   "source": [
    "import csv"
   ]
  },
  {
   "cell_type": "code",
   "execution_count": 16,
   "metadata": {},
   "outputs": [],
   "source": [
    "f=open('examples2.csv')"
   ]
  },
  {
   "cell_type": "code",
   "execution_count": 17,
   "metadata": {},
   "outputs": [],
   "source": [
    "reader=csv.reader(f)"
   ]
  },
  {
   "cell_type": "code",
   "execution_count": 18,
   "metadata": {},
   "outputs": [
    {
     "name": "stdout",
     "output_type": "stream",
     "text": [
      "['a', 'b', 'c', 'd', 'message']\n",
      "['1', '2', '3', '4', 'hello']\n",
      "['5', '6', '7', '8', 'world']\n",
      "['9', '10', '11', '12', 'foo']\n",
      "['a', 'b', 'c', 'd', 'message']\n",
      "['1', '2', '3', '4', 'hello']\n",
      "['5', '6', '7', '8', 'world']\n",
      "['9', '10', '11', '12', 'foo']\n",
      "['a', 'b', 'c', 'd', 'message']\n",
      "['1', '2', '3', '4', 'hello']\n",
      "['5', '6', '7', '8', 'world']\n",
      "['9', '10', '11', '12', 'foo']\n",
      "['a', 'b', 'c', 'd', 'message']\n",
      "['1', '2', '3', '4', 'hello']\n",
      "['5', '6', '7', '8', 'world']\n",
      "['9', '10', '11', '12', 'foo']\n",
      "['a', 'b', 'c', 'd', 'message']\n",
      "['1', '2', '3', '4', 'hello']\n",
      "['5', '6', '7', '8', 'world']\n",
      "['9', '10', '11', '12', 'foo']\n",
      "['a', 'b', 'c', 'd', 'message']\n",
      "['1', '2', '3', '4', 'hello']\n",
      "['5', '6', '7', '8', 'world']\n",
      "['9', '10', '11', '12', 'foo']\n",
      "['a', 'b', 'c', 'd', 'message']\n",
      "['1', '2', '3', '4', 'hello']\n",
      "['5', '6', '7', '8', 'world']\n",
      "['9', '10', '11', '12', 'foo']\n",
      "['a', 'b', 'c', 'd', 'message']\n",
      "['1', '2', '3', '4', 'hello']\n",
      "['5', '6', '7', '8', 'world']\n",
      "['9', '10', '11', '12', 'foo']\n",
      "['a', 'b', 'c', 'd', 'message']\n",
      "['1', '2', '3', '4', 'hello']\n",
      "['5', '6', '7', '8', 'world']\n",
      "['9', '10', '11', '12', 'foo']\n",
      "['a', 'b', 'c', 'd', 'message']\n",
      "['1', '2', '3', '4', 'hello']\n",
      "['5', '6', '7', '8', 'world']\n",
      "['9', '10', '11', '12', 'foo']\n",
      "['a', 'b', 'c', 'd', 'message']\n",
      "['1', '2', '3', '4', 'hello']\n",
      "['5', '6', '7', '8', 'world']\n",
      "['9', '10', '11', '12', 'foo']\n",
      "['a', 'b', 'c', 'd', 'message']\n",
      "['1', '2', '3', '4', 'hello']\n",
      "['5', '6', '7', '8', 'world']\n",
      "['9', '10', '11', '12', 'foo']\n",
      "['a', 'b', 'c', 'd', 'message']\n",
      "['1', '2', '3', '4', 'hello']\n",
      "['5', '6', '7', '8', 'world']\n",
      "['9', '10', '11', '12', 'foo']\n",
      "['a', 'b', 'c', 'd', 'message']\n",
      "['1', '2', '3', '4', 'hello']\n",
      "['5', '6', '7', '8', 'world']\n",
      "['9', '10', '11', '12', 'foo']\n",
      "['a', 'b', 'c', 'd', 'message']\n",
      "['1', '2', '3', '4', 'hello']\n",
      "['5', '6', '7', '8', 'world']\n",
      "['9', '10', '11', '12', 'foo']\n",
      "['a', 'b', 'c', 'd', 'message']\n",
      "['1', '2', '3', '4', 'hello']\n",
      "['5', '6', '7', '8', 'world']\n",
      "['9', '10', '11', '12', 'foo']\n",
      "['a', 'b', 'c', 'd', 'message']\n",
      "['1', '2', '3', '4', 'hello']\n",
      "['5', '6', '7', '8', 'world']\n",
      "['9', '10', '11', '12', 'foo']\n"
     ]
    }
   ],
   "source": [
    "for line in reader:\n",
    "    print(line)"
   ]
  },
  {
   "cell_type": "code",
   "execution_count": 32,
   "metadata": {},
   "outputs": [],
   "source": [
    "with open('examples.csv') as f:\n",
    "    lines=list(csv.reader(f))"
   ]
  },
  {
   "cell_type": "code",
   "execution_count": 33,
   "metadata": {},
   "outputs": [],
   "source": [
    "header,values=lines[0],lines[1:]"
   ]
  },
  {
   "cell_type": "code",
   "execution_count": 34,
   "metadata": {},
   "outputs": [
    {
     "data": {
      "text/plain": [
       "['a', 'b', 'c', 'd', 'message']"
      ]
     },
     "execution_count": 34,
     "metadata": {},
     "output_type": "execute_result"
    }
   ],
   "source": [
    "header"
   ]
  },
  {
   "cell_type": "code",
   "execution_count": 35,
   "metadata": {},
   "outputs": [
    {
     "data": {
      "text/plain": [
       "[['1', '2', '3', '4', 'hello'],\n",
       " ['5', '6', '7', '8', 'world'],\n",
       " ['9', '10', '11', '12', 'foo']]"
      ]
     },
     "execution_count": 35,
     "metadata": {},
     "output_type": "execute_result"
    }
   ],
   "source": [
    "values"
   ]
  },
  {
   "cell_type": "code",
   "execution_count": 36,
   "metadata": {},
   "outputs": [],
   "source": [
    "data_dict={h:v for h,v in zip(header,zip(*values))}"
   ]
  },
  {
   "cell_type": "code",
   "execution_count": 37,
   "metadata": {},
   "outputs": [
    {
     "data": {
      "text/plain": [
       "{'a': ('1', '5', '9'),\n",
       " 'b': ('2', '6', '10'),\n",
       " 'c': ('3', '7', '11'),\n",
       " 'd': ('4', '8', '12'),\n",
       " 'message': ('hello', 'world', 'foo')}"
      ]
     },
     "execution_count": 37,
     "metadata": {},
     "output_type": "execute_result"
    }
   ],
   "source": [
    "data_dict"
   ]
  },
  {
   "cell_type": "code",
   "execution_count": 38,
   "metadata": {},
   "outputs": [],
   "source": [
    "import requests"
   ]
  },
  {
   "cell_type": "code",
   "execution_count": 39,
   "metadata": {},
   "outputs": [],
   "source": [
    "res=requests.get('http://www.7timer.info/bin/astro.php??lon=114.35&lat=30.5&ac=0&lang=zh-CN&unit=metric&tzshift=0&output=json')"
   ]
  },
  {
   "cell_type": "code",
   "execution_count": 52,
   "metadata": {},
   "outputs": [
    {
     "data": {
      "text/plain": [
       "{'product': 'astro',\n",
       " 'init': '2019062918',\n",
       " 'dataseries': [{'timepoint': 3,\n",
       "   'cloudcover': 5,\n",
       "   'seeing': 4,\n",
       "   'transparency': 1,\n",
       "   'lifted_index': 2,\n",
       "   'rh2m': -3,\n",
       "   'wind10m': {'direction': 'E', 'speed': 3},\n",
       "   'temp2m': 37,\n",
       "   'prec_type': 'none'},\n",
       "  {'timepoint': 6,\n",
       "   'cloudcover': 6,\n",
       "   'seeing': 3,\n",
       "   'transparency': 2,\n",
       "   'lifted_index': 2,\n",
       "   'rh2m': -1,\n",
       "   'wind10m': {'direction': 'SE', 'speed': 3},\n",
       "   'temp2m': 32,\n",
       "   'prec_type': 'none'},\n",
       "  {'timepoint': 9,\n",
       "   'cloudcover': 1,\n",
       "   'seeing': 3,\n",
       "   'transparency': 2,\n",
       "   'lifted_index': 2,\n",
       "   'rh2m': 0,\n",
       "   'wind10m': {'direction': 'SE', 'speed': 3},\n",
       "   'temp2m': 29,\n",
       "   'prec_type': 'none'},\n",
       "  {'timepoint': 12,\n",
       "   'cloudcover': 2,\n",
       "   'seeing': 3,\n",
       "   'transparency': 2,\n",
       "   'lifted_index': 2,\n",
       "   'rh2m': 0,\n",
       "   'wind10m': {'direction': 'E', 'speed': 2},\n",
       "   'temp2m': 28,\n",
       "   'prec_type': 'none'},\n",
       "  {'timepoint': 15,\n",
       "   'cloudcover': 1,\n",
       "   'seeing': 1,\n",
       "   'transparency': 2,\n",
       "   'lifted_index': 2,\n",
       "   'rh2m': -2,\n",
       "   'wind10m': {'direction': 'S', 'speed': 3},\n",
       "   'temp2m': 36,\n",
       "   'prec_type': 'none'},\n",
       "  {'timepoint': 18,\n",
       "   'cloudcover': 1,\n",
       "   'seeing': 1,\n",
       "   'transparency': 2,\n",
       "   'lifted_index': -1,\n",
       "   'rh2m': -3,\n",
       "   'wind10m': {'direction': 'SW', 'speed': 3},\n",
       "   'temp2m': 41,\n",
       "   'prec_type': 'none'},\n",
       "  {'timepoint': 21,\n",
       "   'cloudcover': 1,\n",
       "   'seeing': 1,\n",
       "   'transparency': 1,\n",
       "   'lifted_index': 2,\n",
       "   'rh2m': -3,\n",
       "   'wind10m': {'direction': 'W', 'speed': 3},\n",
       "   'temp2m': 43,\n",
       "   'prec_type': 'none'},\n",
       "  {'timepoint': 24,\n",
       "   'cloudcover': 1,\n",
       "   'seeing': 2,\n",
       "   'transparency': 1,\n",
       "   'lifted_index': 2,\n",
       "   'rh2m': -3,\n",
       "   'wind10m': {'direction': 'W', 'speed': 3},\n",
       "   'temp2m': 41,\n",
       "   'prec_type': 'none'},\n",
       "  {'timepoint': 27,\n",
       "   'cloudcover': 2,\n",
       "   'seeing': 4,\n",
       "   'transparency': 1,\n",
       "   'lifted_index': 2,\n",
       "   'rh2m': -3,\n",
       "   'wind10m': {'direction': 'W', 'speed': 3},\n",
       "   'temp2m': 35,\n",
       "   'prec_type': 'none'},\n",
       "  {'timepoint': 30,\n",
       "   'cloudcover': 4,\n",
       "   'seeing': 3,\n",
       "   'transparency': 1,\n",
       "   'lifted_index': 2,\n",
       "   'rh2m': -2,\n",
       "   'wind10m': {'direction': 'NW', 'speed': 4},\n",
       "   'temp2m': 34,\n",
       "   'prec_type': 'none'},\n",
       "  {'timepoint': 33,\n",
       "   'cloudcover': 5,\n",
       "   'seeing': 3,\n",
       "   'transparency': 2,\n",
       "   'lifted_index': 2,\n",
       "   'rh2m': -1,\n",
       "   'wind10m': {'direction': 'N', 'speed': 3},\n",
       "   'temp2m': 30,\n",
       "   'prec_type': 'none'},\n",
       "  {'timepoint': 36,\n",
       "   'cloudcover': 3,\n",
       "   'seeing': 3,\n",
       "   'transparency': 2,\n",
       "   'lifted_index': 2,\n",
       "   'rh2m': -1,\n",
       "   'wind10m': {'direction': 'NE', 'speed': 3},\n",
       "   'temp2m': 29,\n",
       "   'prec_type': 'none'},\n",
       "  {'timepoint': 39,\n",
       "   'cloudcover': 2,\n",
       "   'seeing': 1,\n",
       "   'transparency': 2,\n",
       "   'lifted_index': 2,\n",
       "   'rh2m': -2,\n",
       "   'wind10m': {'direction': 'NE', 'speed': 3},\n",
       "   'temp2m': 36,\n",
       "   'prec_type': 'none'},\n",
       "  {'timepoint': 42,\n",
       "   'cloudcover': 1,\n",
       "   'seeing': 1,\n",
       "   'transparency': 2,\n",
       "   'lifted_index': 2,\n",
       "   'rh2m': -3,\n",
       "   'wind10m': {'direction': 'NE', 'speed': 3},\n",
       "   'temp2m': 42,\n",
       "   'prec_type': 'none'},\n",
       "  {'timepoint': 45,\n",
       "   'cloudcover': 1,\n",
       "   'seeing': 1,\n",
       "   'transparency': 2,\n",
       "   'lifted_index': -1,\n",
       "   'rh2m': -3,\n",
       "   'wind10m': {'direction': 'NE', 'speed': 3},\n",
       "   'temp2m': 43,\n",
       "   'prec_type': 'none'},\n",
       "  {'timepoint': 48,\n",
       "   'cloudcover': 3,\n",
       "   'seeing': 2,\n",
       "   'transparency': 2,\n",
       "   'lifted_index': -1,\n",
       "   'rh2m': -3,\n",
       "   'wind10m': {'direction': 'E', 'speed': 3},\n",
       "   'temp2m': 40,\n",
       "   'prec_type': 'none'},\n",
       "  {'timepoint': 51,\n",
       "   'cloudcover': 4,\n",
       "   'seeing': 3,\n",
       "   'transparency': 2,\n",
       "   'lifted_index': 2,\n",
       "   'rh2m': -2,\n",
       "   'wind10m': {'direction': 'NE', 'speed': 3},\n",
       "   'temp2m': 35,\n",
       "   'prec_type': 'none'},\n",
       "  {'timepoint': 54,\n",
       "   'cloudcover': 6,\n",
       "   'seeing': 3,\n",
       "   'transparency': 2,\n",
       "   'lifted_index': 2,\n",
       "   'rh2m': -1,\n",
       "   'wind10m': {'direction': 'NE', 'speed': 3},\n",
       "   'temp2m': 31,\n",
       "   'prec_type': 'none'},\n",
       "  {'timepoint': 57,\n",
       "   'cloudcover': 6,\n",
       "   'seeing': 4,\n",
       "   'transparency': 2,\n",
       "   'lifted_index': 2,\n",
       "   'rh2m': -1,\n",
       "   'wind10m': {'direction': 'NW', 'speed': 2},\n",
       "   'temp2m': 28,\n",
       "   'prec_type': 'none'},\n",
       "  {'timepoint': 60,\n",
       "   'cloudcover': 4,\n",
       "   'seeing': 3,\n",
       "   'transparency': 2,\n",
       "   'lifted_index': 2,\n",
       "   'rh2m': -1,\n",
       "   'wind10m': {'direction': 'NE', 'speed': 3},\n",
       "   'temp2m': 30,\n",
       "   'prec_type': 'none'},\n",
       "  {'timepoint': 63,\n",
       "   'cloudcover': 6,\n",
       "   'seeing': 1,\n",
       "   'transparency': 2,\n",
       "   'lifted_index': 2,\n",
       "   'rh2m': -2,\n",
       "   'wind10m': {'direction': 'E', 'speed': 3},\n",
       "   'temp2m': 37,\n",
       "   'prec_type': 'none'},\n",
       "  {'timepoint': 66,\n",
       "   'cloudcover': 4,\n",
       "   'seeing': 1,\n",
       "   'transparency': 2,\n",
       "   'lifted_index': -1,\n",
       "   'rh2m': -3,\n",
       "   'wind10m': {'direction': 'SE', 'speed': 3},\n",
       "   'temp2m': 41,\n",
       "   'prec_type': 'none'},\n",
       "  {'timepoint': 69,\n",
       "   'cloudcover': 1,\n",
       "   'seeing': 1,\n",
       "   'transparency': 2,\n",
       "   'lifted_index': -1,\n",
       "   'rh2m': -3,\n",
       "   'wind10m': {'direction': 'SE', 'speed': 2},\n",
       "   'temp2m': 42,\n",
       "   'prec_type': 'none'},\n",
       "  {'timepoint': 72,\n",
       "   'cloudcover': 5,\n",
       "   'seeing': 1,\n",
       "   'transparency': 2,\n",
       "   'lifted_index': -1,\n",
       "   'rh2m': -3,\n",
       "   'wind10m': {'direction': 'E', 'speed': 2},\n",
       "   'temp2m': 41,\n",
       "   'prec_type': 'none'}]}"
      ]
     },
     "execution_count": 52,
     "metadata": {},
     "output_type": "execute_result"
    }
   ],
   "source": [
    "res.json()"
   ]
  },
  {
   "cell_type": "code",
   "execution_count": 48,
   "metadata": {},
   "outputs": [],
   "source": [
    "import json"
   ]
  },
  {
   "cell_type": "code",
   "execution_count": 54,
   "metadata": {},
   "outputs": [],
   "source": [
    "result_to_json=res.json()"
   ]
  },
  {
   "cell_type": "code",
   "execution_count": 58,
   "metadata": {},
   "outputs": [],
   "source": [
    "dataseries=pd.DataFrame(result_to_json['dataseries'],columns=['timepoint','cloudcover','seeing','transparency'])"
   ]
  },
  {
   "cell_type": "code",
   "execution_count": 59,
   "metadata": {},
   "outputs": [
    {
     "data": {
      "text/html": [
       "<div>\n",
       "<style scoped>\n",
       "    .dataframe tbody tr th:only-of-type {\n",
       "        vertical-align: middle;\n",
       "    }\n",
       "\n",
       "    .dataframe tbody tr th {\n",
       "        vertical-align: top;\n",
       "    }\n",
       "\n",
       "    .dataframe thead th {\n",
       "        text-align: right;\n",
       "    }\n",
       "</style>\n",
       "<table border=\"1\" class=\"dataframe\">\n",
       "  <thead>\n",
       "    <tr style=\"text-align: right;\">\n",
       "      <th></th>\n",
       "      <th>timepoint</th>\n",
       "      <th>cloudcover</th>\n",
       "      <th>seeing</th>\n",
       "      <th>transparency</th>\n",
       "    </tr>\n",
       "  </thead>\n",
       "  <tbody>\n",
       "    <tr>\n",
       "      <th>0</th>\n",
       "      <td>3</td>\n",
       "      <td>5</td>\n",
       "      <td>4</td>\n",
       "      <td>1</td>\n",
       "    </tr>\n",
       "    <tr>\n",
       "      <th>1</th>\n",
       "      <td>6</td>\n",
       "      <td>6</td>\n",
       "      <td>3</td>\n",
       "      <td>2</td>\n",
       "    </tr>\n",
       "    <tr>\n",
       "      <th>2</th>\n",
       "      <td>9</td>\n",
       "      <td>1</td>\n",
       "      <td>3</td>\n",
       "      <td>2</td>\n",
       "    </tr>\n",
       "    <tr>\n",
       "      <th>3</th>\n",
       "      <td>12</td>\n",
       "      <td>2</td>\n",
       "      <td>3</td>\n",
       "      <td>2</td>\n",
       "    </tr>\n",
       "    <tr>\n",
       "      <th>4</th>\n",
       "      <td>15</td>\n",
       "      <td>1</td>\n",
       "      <td>1</td>\n",
       "      <td>2</td>\n",
       "    </tr>\n",
       "    <tr>\n",
       "      <th>...</th>\n",
       "      <td>...</td>\n",
       "      <td>...</td>\n",
       "      <td>...</td>\n",
       "      <td>...</td>\n",
       "    </tr>\n",
       "    <tr>\n",
       "      <th>19</th>\n",
       "      <td>60</td>\n",
       "      <td>4</td>\n",
       "      <td>3</td>\n",
       "      <td>2</td>\n",
       "    </tr>\n",
       "    <tr>\n",
       "      <th>20</th>\n",
       "      <td>63</td>\n",
       "      <td>6</td>\n",
       "      <td>1</td>\n",
       "      <td>2</td>\n",
       "    </tr>\n",
       "    <tr>\n",
       "      <th>21</th>\n",
       "      <td>66</td>\n",
       "      <td>4</td>\n",
       "      <td>1</td>\n",
       "      <td>2</td>\n",
       "    </tr>\n",
       "    <tr>\n",
       "      <th>22</th>\n",
       "      <td>69</td>\n",
       "      <td>1</td>\n",
       "      <td>1</td>\n",
       "      <td>2</td>\n",
       "    </tr>\n",
       "    <tr>\n",
       "      <th>23</th>\n",
       "      <td>72</td>\n",
       "      <td>5</td>\n",
       "      <td>1</td>\n",
       "      <td>2</td>\n",
       "    </tr>\n",
       "  </tbody>\n",
       "</table>\n",
       "<p>24 rows × 4 columns</p>\n",
       "</div>"
      ],
      "text/plain": [
       "    timepoint  cloudcover  seeing  transparency\n",
       "0           3           5       4             1\n",
       "1           6           6       3             2\n",
       "2           9           1       3             2\n",
       "3          12           2       3             2\n",
       "4          15           1       1             2\n",
       "..        ...         ...     ...           ...\n",
       "19         60           4       3             2\n",
       "20         63           6       1             2\n",
       "21         66           4       1             2\n",
       "22         69           1       1             2\n",
       "23         72           5       1             2\n",
       "\n",
       "[24 rows x 4 columns]"
      ]
     },
     "execution_count": 59,
     "metadata": {},
     "output_type": "execute_result"
    }
   ],
   "source": [
    "dataseries"
   ]
  },
  {
   "cell_type": "code",
   "execution_count": 63,
   "metadata": {
    "collapsed": true
   },
   "outputs": [
    {
     "name": "stdout",
     "output_type": "stream",
     "text": [
      "{'timepoint': 3, 'cloudcover': 5, 'seeing': 4, 'transparency': 1, 'lifted_index': 2, 'rh2m': -3, 'wind10m': {'direction': 'E', 'speed': 3}, 'temp2m': 37, 'prec_type': 'none'}\n",
      "{'timepoint': 6, 'cloudcover': 6, 'seeing': 3, 'transparency': 2, 'lifted_index': 2, 'rh2m': -1, 'wind10m': {'direction': 'SE', 'speed': 3}, 'temp2m': 32, 'prec_type': 'none'}\n",
      "{'timepoint': 9, 'cloudcover': 1, 'seeing': 3, 'transparency': 2, 'lifted_index': 2, 'rh2m': 0, 'wind10m': {'direction': 'SE', 'speed': 3}, 'temp2m': 29, 'prec_type': 'none'}\n",
      "{'timepoint': 12, 'cloudcover': 2, 'seeing': 3, 'transparency': 2, 'lifted_index': 2, 'rh2m': 0, 'wind10m': {'direction': 'E', 'speed': 2}, 'temp2m': 28, 'prec_type': 'none'}\n",
      "{'timepoint': 15, 'cloudcover': 1, 'seeing': 1, 'transparency': 2, 'lifted_index': 2, 'rh2m': -2, 'wind10m': {'direction': 'S', 'speed': 3}, 'temp2m': 36, 'prec_type': 'none'}\n",
      "{'timepoint': 18, 'cloudcover': 1, 'seeing': 1, 'transparency': 2, 'lifted_index': -1, 'rh2m': -3, 'wind10m': {'direction': 'SW', 'speed': 3}, 'temp2m': 41, 'prec_type': 'none'}\n",
      "{'timepoint': 21, 'cloudcover': 1, 'seeing': 1, 'transparency': 1, 'lifted_index': 2, 'rh2m': -3, 'wind10m': {'direction': 'W', 'speed': 3}, 'temp2m': 43, 'prec_type': 'none'}\n",
      "{'timepoint': 24, 'cloudcover': 1, 'seeing': 2, 'transparency': 1, 'lifted_index': 2, 'rh2m': -3, 'wind10m': {'direction': 'W', 'speed': 3}, 'temp2m': 41, 'prec_type': 'none'}\n",
      "{'timepoint': 27, 'cloudcover': 2, 'seeing': 4, 'transparency': 1, 'lifted_index': 2, 'rh2m': -3, 'wind10m': {'direction': 'W', 'speed': 3}, 'temp2m': 35, 'prec_type': 'none'}\n",
      "{'timepoint': 30, 'cloudcover': 4, 'seeing': 3, 'transparency': 1, 'lifted_index': 2, 'rh2m': -2, 'wind10m': {'direction': 'NW', 'speed': 4}, 'temp2m': 34, 'prec_type': 'none'}\n",
      "{'timepoint': 33, 'cloudcover': 5, 'seeing': 3, 'transparency': 2, 'lifted_index': 2, 'rh2m': -1, 'wind10m': {'direction': 'N', 'speed': 3}, 'temp2m': 30, 'prec_type': 'none'}\n",
      "{'timepoint': 36, 'cloudcover': 3, 'seeing': 3, 'transparency': 2, 'lifted_index': 2, 'rh2m': -1, 'wind10m': {'direction': 'NE', 'speed': 3}, 'temp2m': 29, 'prec_type': 'none'}\n",
      "{'timepoint': 39, 'cloudcover': 2, 'seeing': 1, 'transparency': 2, 'lifted_index': 2, 'rh2m': -2, 'wind10m': {'direction': 'NE', 'speed': 3}, 'temp2m': 36, 'prec_type': 'none'}\n",
      "{'timepoint': 42, 'cloudcover': 1, 'seeing': 1, 'transparency': 2, 'lifted_index': 2, 'rh2m': -3, 'wind10m': {'direction': 'NE', 'speed': 3}, 'temp2m': 42, 'prec_type': 'none'}\n",
      "{'timepoint': 45, 'cloudcover': 1, 'seeing': 1, 'transparency': 2, 'lifted_index': -1, 'rh2m': -3, 'wind10m': {'direction': 'NE', 'speed': 3}, 'temp2m': 43, 'prec_type': 'none'}\n",
      "{'timepoint': 48, 'cloudcover': 3, 'seeing': 2, 'transparency': 2, 'lifted_index': -1, 'rh2m': -3, 'wind10m': {'direction': 'E', 'speed': 3}, 'temp2m': 40, 'prec_type': 'none'}\n",
      "{'timepoint': 51, 'cloudcover': 4, 'seeing': 3, 'transparency': 2, 'lifted_index': 2, 'rh2m': -2, 'wind10m': {'direction': 'NE', 'speed': 3}, 'temp2m': 35, 'prec_type': 'none'}\n",
      "{'timepoint': 54, 'cloudcover': 6, 'seeing': 3, 'transparency': 2, 'lifted_index': 2, 'rh2m': -1, 'wind10m': {'direction': 'NE', 'speed': 3}, 'temp2m': 31, 'prec_type': 'none'}\n",
      "{'timepoint': 57, 'cloudcover': 6, 'seeing': 4, 'transparency': 2, 'lifted_index': 2, 'rh2m': -1, 'wind10m': {'direction': 'NW', 'speed': 2}, 'temp2m': 28, 'prec_type': 'none'}\n",
      "{'timepoint': 60, 'cloudcover': 4, 'seeing': 3, 'transparency': 2, 'lifted_index': 2, 'rh2m': -1, 'wind10m': {'direction': 'NE', 'speed': 3}, 'temp2m': 30, 'prec_type': 'none'}\n",
      "{'timepoint': 63, 'cloudcover': 6, 'seeing': 1, 'transparency': 2, 'lifted_index': 2, 'rh2m': -2, 'wind10m': {'direction': 'E', 'speed': 3}, 'temp2m': 37, 'prec_type': 'none'}\n",
      "{'timepoint': 66, 'cloudcover': 4, 'seeing': 1, 'transparency': 2, 'lifted_index': -1, 'rh2m': -3, 'wind10m': {'direction': 'SE', 'speed': 3}, 'temp2m': 41, 'prec_type': 'none'}\n",
      "{'timepoint': 69, 'cloudcover': 1, 'seeing': 1, 'transparency': 2, 'lifted_index': -1, 'rh2m': -3, 'wind10m': {'direction': 'SE', 'speed': 2}, 'temp2m': 42, 'prec_type': 'none'}\n",
      "{'timepoint': 72, 'cloudcover': 5, 'seeing': 1, 'transparency': 2, 'lifted_index': -1, 'rh2m': -3, 'wind10m': {'direction': 'E', 'speed': 2}, 'temp2m': 41, 'prec_type': 'none'}\n"
     ]
    }
   ],
   "source": [
    "for data in result_to_json['dataseries']:\n",
    "    print(data)"
   ]
  },
  {
   "cell_type": "code",
   "execution_count": 64,
   "metadata": {},
   "outputs": [],
   "source": [
    "import sqlite3"
   ]
  },
  {
   "cell_type": "code",
   "execution_count": 65,
   "metadata": {},
   "outputs": [],
   "source": [
    "query=\"\"\"\n",
    "    CREATE TABLE test\n",
    "    (a VARCHAR(20),b VARCHAR(20),\n",
    "    c REAl,d INTEGER);    \n",
    "\"\"\""
   ]
  },
  {
   "cell_type": "code",
   "execution_count": 66,
   "metadata": {},
   "outputs": [
    {
     "data": {
      "text/plain": [
       "'\\n    CREATE TABLE test\\n    (a VARCHAR(20),b VARCHAR(20),\\n    c REAl,d INTEGER);    \\n'"
      ]
     },
     "execution_count": 66,
     "metadata": {},
     "output_type": "execute_result"
    }
   ],
   "source": [
    "query"
   ]
  },
  {
   "cell_type": "code",
   "execution_count": 68,
   "metadata": {},
   "outputs": [],
   "source": [
    "con=sqlite3.connect('mydata.sqlite')"
   ]
  },
  {
   "cell_type": "code",
   "execution_count": 69,
   "metadata": {},
   "outputs": [
    {
     "data": {
      "text/plain": [
       "<sqlite3.Cursor at 0x27502536730>"
      ]
     },
     "execution_count": 69,
     "metadata": {},
     "output_type": "execute_result"
    }
   ],
   "source": [
    "con.execute(query)"
   ]
  },
  {
   "cell_type": "code",
   "execution_count": 70,
   "metadata": {},
   "outputs": [],
   "source": [
    "con.commit()"
   ]
  },
  {
   "cell_type": "code",
   "execution_count": 74,
   "metadata": {},
   "outputs": [
    {
     "data": {
      "text/plain": [
       "[]"
      ]
     },
     "execution_count": 74,
     "metadata": {},
     "output_type": "execute_result"
    }
   ],
   "source": [
    "stmt=\"INSERT INTO test VALUES(?,?,?,?)\"\n",
    "con.executemany(stmt,data)"
   ]
  },
  {
   "cell_type": "code",
   "execution_count": 75,
   "metadata": {},
   "outputs": [],
   "source": [
    "data={('Atlanta','Georgia',1.25,6),('Talla','Florida',2.6,3),('Sacra','California',1.7,5)}"
   ]
  },
  {
   "cell_type": "markdown",
   "metadata": {},
   "source": [
    "### 执行查询"
   ]
  },
  {
   "cell_type": "code",
   "execution_count": 77,
   "metadata": {},
   "outputs": [
    {
     "data": {
      "text/plain": [
       "<sqlite3.Cursor at 0x275025367a0>"
      ]
     },
     "execution_count": 77,
     "metadata": {},
     "output_type": "execute_result"
    }
   ],
   "source": [
    "cursor=con.execute('select * from test')\n",
    "rows=cursor.fetchall()\n",
    "rows"
   ]
  },
  {
   "cell_type": "code",
   "execution_count": 79,
   "metadata": {},
   "outputs": [
    {
     "data": {
      "text/plain": [
       "(('a', None, None, None, None, None, None),\n",
       " ('b', None, None, None, None, None, None),\n",
       " ('c', None, None, None, None, None, None),\n",
       " ('d', None, None, None, None, None, None))"
      ]
     },
     "execution_count": 79,
     "metadata": {},
     "output_type": "execute_result"
    }
   ],
   "source": [
    "cursor.description"
   ]
  },
  {
   "cell_type": "code",
   "execution_count": 81,
   "metadata": {},
   "outputs": [
    {
     "data": {
      "text/html": [
       "<div>\n",
       "<style scoped>\n",
       "    .dataframe tbody tr th:only-of-type {\n",
       "        vertical-align: middle;\n",
       "    }\n",
       "\n",
       "    .dataframe tbody tr th {\n",
       "        vertical-align: top;\n",
       "    }\n",
       "\n",
       "    .dataframe thead th {\n",
       "        text-align: right;\n",
       "    }\n",
       "</style>\n",
       "<table border=\"1\" class=\"dataframe\">\n",
       "  <thead>\n",
       "    <tr style=\"text-align: right;\">\n",
       "      <th></th>\n",
       "      <th>a</th>\n",
       "      <th>b</th>\n",
       "      <th>c</th>\n",
       "      <th>d</th>\n",
       "    </tr>\n",
       "  </thead>\n",
       "  <tbody>\n",
       "    <tr>\n",
       "      <th>0</th>\n",
       "      <td>Atlanta</td>\n",
       "      <td>Georgia</td>\n",
       "      <td>1.25</td>\n",
       "      <td>6</td>\n",
       "    </tr>\n",
       "    <tr>\n",
       "      <th>1</th>\n",
       "      <td>Sacra</td>\n",
       "      <td>California</td>\n",
       "      <td>1.70</td>\n",
       "      <td>5</td>\n",
       "    </tr>\n",
       "    <tr>\n",
       "      <th>2</th>\n",
       "      <td>Talla</td>\n",
       "      <td>Florida</td>\n",
       "      <td>2.60</td>\n",
       "      <td>3</td>\n",
       "    </tr>\n",
       "  </tbody>\n",
       "</table>\n",
       "</div>"
      ],
      "text/plain": [
       "         a           b     c  d\n",
       "0  Atlanta     Georgia  1.25  6\n",
       "1    Sacra  California  1.70  5\n",
       "2    Talla     Florida  2.60  3"
      ]
     },
     "execution_count": 81,
     "metadata": {},
     "output_type": "execute_result"
    }
   ],
   "source": [
    "pd.DataFrame(rows,columns=[x[0] for x in cursor.description])"
   ]
  },
  {
   "cell_type": "code",
   "execution_count": null,
   "metadata": {},
   "outputs": [],
   "source": []
  },
  {
   "cell_type": "code",
   "execution_count": null,
   "metadata": {},
   "outputs": [],
   "source": []
  },
  {
   "cell_type": "code",
   "execution_count": null,
   "metadata": {},
   "outputs": [],
   "source": []
  }
 ],
 "metadata": {
  "kernelspec": {
   "display_name": "Python 3",
   "language": "python",
   "name": "python3"
  },
  "language_info": {
   "codemirror_mode": {
    "name": "ipython",
    "version": 3
   },
   "file_extension": ".py",
   "mimetype": "text/x-python",
   "name": "python",
   "nbconvert_exporter": "python",
   "pygments_lexer": "ipython3",
   "version": "3.7.1"
  }
 },
 "nbformat": 4,
 "nbformat_minor": 2
}
