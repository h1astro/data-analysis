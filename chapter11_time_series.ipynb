{
 "cells": [
  {
   "cell_type": "code",
   "execution_count": 1,
   "metadata": {},
   "outputs": [],
   "source": [
    "from datetime import datetime"
   ]
  },
  {
   "cell_type": "code",
   "execution_count": 2,
   "metadata": {},
   "outputs": [],
   "source": [
    "now=datetime.now()"
   ]
  },
  {
   "cell_type": "code",
   "execution_count": 3,
   "metadata": {},
   "outputs": [
    {
     "data": {
      "text/plain": [
       "datetime.datetime(2019, 7, 19, 10, 29, 19, 32779)"
      ]
     },
     "execution_count": 3,
     "metadata": {},
     "output_type": "execute_result"
    }
   ],
   "source": [
    "now"
   ]
  },
  {
   "cell_type": "code",
   "execution_count": 4,
   "metadata": {},
   "outputs": [
    {
     "data": {
      "text/plain": [
       "(2019, 7, 19)"
      ]
     },
     "execution_count": 4,
     "metadata": {},
     "output_type": "execute_result"
    }
   ],
   "source": [
    "now.year,now.month,now.day"
   ]
  },
  {
   "cell_type": "code",
   "execution_count": 5,
   "metadata": {},
   "outputs": [],
   "source": [
    "delta=datetime(2011,1,7)-datetime(2008,6,24,8,15)"
   ]
  },
  {
   "cell_type": "code",
   "execution_count": 6,
   "metadata": {},
   "outputs": [
    {
     "data": {
      "text/plain": [
       "datetime.timedelta(days=926, seconds=56700)"
      ]
     },
     "execution_count": 6,
     "metadata": {},
     "output_type": "execute_result"
    }
   ],
   "source": [
    "delta"
   ]
  },
  {
   "cell_type": "code",
   "execution_count": 7,
   "metadata": {},
   "outputs": [
    {
     "data": {
      "text/plain": [
       "926"
      ]
     },
     "execution_count": 7,
     "metadata": {},
     "output_type": "execute_result"
    }
   ],
   "source": [
    "delta.days"
   ]
  },
  {
   "cell_type": "code",
   "execution_count": 10,
   "metadata": {},
   "outputs": [
    {
     "data": {
      "text/plain": [
       "56700"
      ]
     },
     "execution_count": 10,
     "metadata": {},
     "output_type": "execute_result"
    }
   ],
   "source": [
    "delta.seconds"
   ]
  },
  {
   "cell_type": "code",
   "execution_count": 11,
   "metadata": {},
   "outputs": [
    {
     "name": "stdout",
     "output_type": "stream",
     "text": [
      "The history saving thread hit an unexpected error (OperationalError('database or disk is full')).History will not be written to the database.\n"
     ]
    }
   ],
   "source": [
    "from datetime import timedelta"
   ]
  },
  {
   "cell_type": "code",
   "execution_count": 12,
   "metadata": {},
   "outputs": [],
   "source": [
    "start=datetime(2011,1,7)"
   ]
  },
  {
   "cell_type": "code",
   "execution_count": 13,
   "metadata": {},
   "outputs": [
    {
     "data": {
      "text/plain": [
       "datetime.datetime(2011, 1, 19, 0, 0)"
      ]
     },
     "execution_count": 13,
     "metadata": {},
     "output_type": "execute_result"
    }
   ],
   "source": [
    "start+timedelta(12)"
   ]
  },
  {
   "cell_type": "code",
   "execution_count": 14,
   "metadata": {},
   "outputs": [
    {
     "data": {
      "text/plain": [
       "datetime.datetime(2010, 12, 14, 0, 0)"
      ]
     },
     "execution_count": 14,
     "metadata": {},
     "output_type": "execute_result"
    }
   ],
   "source": [
    "start-2*timedelta(12)"
   ]
  },
  {
   "cell_type": "markdown",
   "metadata": {},
   "source": [
    "### 字符串和datetime的相互转换"
   ]
  },
  {
   "cell_type": "code",
   "execution_count": 15,
   "metadata": {},
   "outputs": [],
   "source": [
    "stamp=datetime(2011,1,3)"
   ]
  },
  {
   "cell_type": "code",
   "execution_count": 16,
   "metadata": {},
   "outputs": [
    {
     "data": {
      "text/plain": [
       "datetime.datetime(2011, 1, 3, 0, 0)"
      ]
     },
     "execution_count": 16,
     "metadata": {},
     "output_type": "execute_result"
    }
   ],
   "source": [
    "stamp"
   ]
  },
  {
   "cell_type": "code",
   "execution_count": 17,
   "metadata": {},
   "outputs": [
    {
     "data": {
      "text/plain": [
       "'2011-01-03 00:00:00'"
      ]
     },
     "execution_count": 17,
     "metadata": {},
     "output_type": "execute_result"
    }
   ],
   "source": [
    "str(stamp)"
   ]
  },
  {
   "cell_type": "code",
   "execution_count": 18,
   "metadata": {},
   "outputs": [
    {
     "data": {
      "text/plain": [
       "'2011-01-03'"
      ]
     },
     "execution_count": 18,
     "metadata": {},
     "output_type": "execute_result"
    }
   ],
   "source": [
    "stamp.strftime('%Y-%m-%d')"
   ]
  },
  {
   "cell_type": "code",
   "execution_count": 19,
   "metadata": {},
   "outputs": [],
   "source": [
    "value='2011-01-03'"
   ]
  },
  {
   "cell_type": "code",
   "execution_count": 23,
   "metadata": {},
   "outputs": [
    {
     "data": {
      "text/plain": [
       "datetime.datetime(2011, 1, 3, 0, 0)"
      ]
     },
     "execution_count": 23,
     "metadata": {},
     "output_type": "execute_result"
    }
   ],
   "source": [
    "datetime.strptime(value,'%Y-%m-%d')"
   ]
  },
  {
   "cell_type": "code",
   "execution_count": 24,
   "metadata": {},
   "outputs": [],
   "source": [
    "datestrs=['7/6/2011','8/6/2011']"
   ]
  },
  {
   "cell_type": "code",
   "execution_count": 25,
   "metadata": {},
   "outputs": [
    {
     "data": {
      "text/plain": [
       "[datetime.datetime(2011, 7, 6, 0, 0), datetime.datetime(2011, 8, 6, 0, 0)]"
      ]
     },
     "execution_count": 25,
     "metadata": {},
     "output_type": "execute_result"
    }
   ],
   "source": [
    "[datetime.strptime(x,'%m/%d/%Y') for x in datestrs]"
   ]
  },
  {
   "cell_type": "code",
   "execution_count": 26,
   "metadata": {},
   "outputs": [],
   "source": [
    "from dateutil.parser import parse"
   ]
  },
  {
   "cell_type": "code",
   "execution_count": 27,
   "metadata": {},
   "outputs": [
    {
     "data": {
      "text/plain": [
       "datetime.datetime(2011, 1, 3, 0, 0)"
      ]
     },
     "execution_count": 27,
     "metadata": {},
     "output_type": "execute_result"
    }
   ],
   "source": [
    "parse('2011-01-03')"
   ]
  },
  {
   "cell_type": "code",
   "execution_count": 28,
   "metadata": {},
   "outputs": [
    {
     "data": {
      "text/plain": [
       "datetime.datetime(2019, 1, 31, 22, 45)"
      ]
     },
     "execution_count": 28,
     "metadata": {},
     "output_type": "execute_result"
    }
   ],
   "source": [
    "parse('Jan 31,1997 10:45 PM')"
   ]
  },
  {
   "cell_type": "code",
   "execution_count": 30,
   "metadata": {},
   "outputs": [
    {
     "data": {
      "text/plain": [
       "datetime.datetime(2011, 11, 6, 0, 0)"
      ]
     },
     "execution_count": 30,
     "metadata": {},
     "output_type": "execute_result"
    }
   ],
   "source": [
    "parse('6/11/2011',dayfirst=True)"
   ]
  },
  {
   "cell_type": "code",
   "execution_count": 31,
   "metadata": {},
   "outputs": [],
   "source": [
    "datestrs=['2011-07-06 12:00:00','2011-08-06 14:00:12']"
   ]
  },
  {
   "cell_type": "code",
   "execution_count": 32,
   "metadata": {},
   "outputs": [],
   "source": [
    "import pandas as pd"
   ]
  },
  {
   "cell_type": "code",
   "execution_count": 33,
   "metadata": {},
   "outputs": [
    {
     "data": {
      "text/plain": [
       "DatetimeIndex(['2011-07-06 12:00:00', '2011-08-06 14:00:12'], dtype='datetime64[ns]', freq=None)"
      ]
     },
     "execution_count": 33,
     "metadata": {},
     "output_type": "execute_result"
    }
   ],
   "source": [
    "pd.to_datetime(datestrs)"
   ]
  },
  {
   "cell_type": "code",
   "execution_count": 35,
   "metadata": {},
   "outputs": [],
   "source": [
    "idx=pd.to_datetime(datestrs+[None])"
   ]
  },
  {
   "cell_type": "code",
   "execution_count": 36,
   "metadata": {},
   "outputs": [
    {
     "data": {
      "text/plain": [
       "DatetimeIndex(['2011-07-06 12:00:00', '2011-08-06 14:00:12', 'NaT'], dtype='datetime64[ns]', freq=None)"
      ]
     },
     "execution_count": 36,
     "metadata": {},
     "output_type": "execute_result"
    }
   ],
   "source": [
    "idx"
   ]
  },
  {
   "cell_type": "markdown",
   "metadata": {},
   "source": [
    "### 时间序列基础"
   ]
  },
  {
   "cell_type": "code",
   "execution_count": 37,
   "metadata": {},
   "outputs": [],
   "source": [
    "from datetime import datetime"
   ]
  },
  {
   "cell_type": "code",
   "execution_count": 38,
   "metadata": {},
   "outputs": [],
   "source": [
    "dates=[datetime(2011,1,2),datetime(2011,1,5),datetime(2011,1,7),datetime(2011,1,8),datetime(2011,1,10),datetime(2011,1,12)]"
   ]
  },
  {
   "cell_type": "code",
   "execution_count": 39,
   "metadata": {},
   "outputs": [
    {
     "data": {
      "text/plain": [
       "[datetime.datetime(2011, 1, 2, 0, 0),\n",
       " datetime.datetime(2011, 1, 5, 0, 0),\n",
       " datetime.datetime(2011, 1, 7, 0, 0),\n",
       " datetime.datetime(2011, 1, 8, 0, 0),\n",
       " datetime.datetime(2011, 1, 10, 0, 0),\n",
       " datetime.datetime(2011, 1, 12, 0, 0)]"
      ]
     },
     "execution_count": 39,
     "metadata": {},
     "output_type": "execute_result"
    }
   ],
   "source": [
    "dates"
   ]
  },
  {
   "cell_type": "code",
   "execution_count": 41,
   "metadata": {},
   "outputs": [],
   "source": [
    "import numpy as np"
   ]
  },
  {
   "cell_type": "code",
   "execution_count": 42,
   "metadata": {},
   "outputs": [],
   "source": [
    "ts=pd.Series(np.random.randn(6),index=dates)"
   ]
  },
  {
   "cell_type": "code",
   "execution_count": 43,
   "metadata": {},
   "outputs": [
    {
     "data": {
      "text/plain": [
       "2011-01-02   -0.707914\n",
       "2011-01-05   -1.745405\n",
       "2011-01-07   -0.363769\n",
       "2011-01-08    1.564592\n",
       "2011-01-10   -0.172646\n",
       "2011-01-12    0.079676\n",
       "dtype: float64"
      ]
     },
     "execution_count": 43,
     "metadata": {},
     "output_type": "execute_result"
    }
   ],
   "source": [
    "ts"
   ]
  },
  {
   "cell_type": "code",
   "execution_count": 44,
   "metadata": {},
   "outputs": [
    {
     "data": {
      "text/plain": [
       "DatetimeIndex(['2011-01-02', '2011-01-05', '2011-01-07', '2011-01-08',\n",
       "               '2011-01-10', '2011-01-12'],\n",
       "              dtype='datetime64[ns]', freq=None)"
      ]
     },
     "execution_count": 44,
     "metadata": {},
     "output_type": "execute_result"
    }
   ],
   "source": [
    "ts.index"
   ]
  },
  {
   "cell_type": "code",
   "execution_count": 45,
   "metadata": {},
   "outputs": [
    {
     "data": {
      "text/plain": [
       "2011-01-02   -1.415829\n",
       "2011-01-05         NaN\n",
       "2011-01-07   -0.727538\n",
       "2011-01-08         NaN\n",
       "2011-01-10   -0.345292\n",
       "2011-01-12         NaN\n",
       "dtype: float64"
      ]
     },
     "execution_count": 45,
     "metadata": {},
     "output_type": "execute_result"
    }
   ],
   "source": [
    "ts+ts[::2]"
   ]
  },
  {
   "cell_type": "code",
   "execution_count": 46,
   "metadata": {},
   "outputs": [
    {
     "data": {
      "text/plain": [
       "dtype('<M8[ns]')"
      ]
     },
     "execution_count": 46,
     "metadata": {},
     "output_type": "execute_result"
    }
   ],
   "source": [
    "ts.index.dtype"
   ]
  },
  {
   "cell_type": "code",
   "execution_count": 47,
   "metadata": {},
   "outputs": [],
   "source": [
    "stamp=ts.index[0]"
   ]
  },
  {
   "cell_type": "code",
   "execution_count": 48,
   "metadata": {},
   "outputs": [
    {
     "data": {
      "text/plain": [
       "Timestamp('2011-01-02 00:00:00')"
      ]
     },
     "execution_count": 48,
     "metadata": {},
     "output_type": "execute_result"
    }
   ],
   "source": [
    "stamp"
   ]
  },
  {
   "cell_type": "markdown",
   "metadata": {},
   "source": [
    "#### 索引、选取、子集构造"
   ]
  },
  {
   "cell_type": "code",
   "execution_count": 49,
   "metadata": {},
   "outputs": [],
   "source": [
    "stamp=ts.index[2]"
   ]
  },
  {
   "cell_type": "code",
   "execution_count": 50,
   "metadata": {},
   "outputs": [
    {
     "data": {
      "text/plain": [
       "Timestamp('2011-01-07 00:00:00')"
      ]
     },
     "execution_count": 50,
     "metadata": {},
     "output_type": "execute_result"
    }
   ],
   "source": [
    "stamp"
   ]
  },
  {
   "cell_type": "code",
   "execution_count": 51,
   "metadata": {},
   "outputs": [
    {
     "data": {
      "text/plain": [
       "-0.36376916639724677"
      ]
     },
     "execution_count": 51,
     "metadata": {},
     "output_type": "execute_result"
    }
   ],
   "source": [
    "ts[stamp]"
   ]
  },
  {
   "cell_type": "code",
   "execution_count": 52,
   "metadata": {},
   "outputs": [
    {
     "data": {
      "text/plain": [
       "-0.17264576644140697"
      ]
     },
     "execution_count": 52,
     "metadata": {},
     "output_type": "execute_result"
    }
   ],
   "source": [
    "ts['1/10/2011']"
   ]
  },
  {
   "cell_type": "code",
   "execution_count": 53,
   "metadata": {},
   "outputs": [
    {
     "data": {
      "text/plain": [
       "-0.17264576644140697"
      ]
     },
     "execution_count": 53,
     "metadata": {},
     "output_type": "execute_result"
    }
   ],
   "source": [
    "ts['20110110']"
   ]
  },
  {
   "cell_type": "code",
   "execution_count": 55,
   "metadata": {},
   "outputs": [],
   "source": [
    "longer_ts=pd.Series(np.random.randn(1000),index=pd.date_range('1/1/2000',periods=1000))"
   ]
  },
  {
   "cell_type": "code",
   "execution_count": 56,
   "metadata": {},
   "outputs": [
    {
     "data": {
      "text/plain": [
       "2000-01-01    1.107118\n",
       "2000-01-02    0.721245\n",
       "2000-01-03    0.580835\n",
       "2000-01-04   -1.019486\n",
       "2000-01-05   -2.457127\n",
       "2000-01-06    0.155958\n",
       "2000-01-07   -0.797774\n",
       "2000-01-08   -1.539769\n",
       "2000-01-09    0.797614\n",
       "2000-01-10    0.059900\n",
       "2000-01-11   -0.028279\n",
       "2000-01-12   -0.432869\n",
       "2000-01-13   -0.206925\n",
       "2000-01-14    1.533180\n",
       "2000-01-15   -0.348230\n",
       "2000-01-16   -0.644609\n",
       "2000-01-17   -1.337992\n",
       "2000-01-18   -0.097449\n",
       "2000-01-19   -0.594360\n",
       "2000-01-20   -1.728158\n",
       "2000-01-21    1.361633\n",
       "2000-01-22    0.156106\n",
       "2000-01-23    0.511589\n",
       "2000-01-24   -0.481899\n",
       "2000-01-25   -0.842233\n",
       "2000-01-26   -0.944714\n",
       "2000-01-27   -0.639105\n",
       "2000-01-28    0.799910\n",
       "2000-01-29    0.583843\n",
       "2000-01-30    1.871639\n",
       "                ...   \n",
       "2002-08-28    0.714857\n",
       "2002-08-29    1.115529\n",
       "2002-08-30   -0.637295\n",
       "2002-08-31   -0.139545\n",
       "2002-09-01   -0.109630\n",
       "2002-09-02   -0.167983\n",
       "2002-09-03    0.621505\n",
       "2002-09-04   -1.117156\n",
       "2002-09-05   -1.379095\n",
       "2002-09-06   -0.141031\n",
       "2002-09-07   -0.785512\n",
       "2002-09-08    0.069542\n",
       "2002-09-09   -0.279997\n",
       "2002-09-10    0.679044\n",
       "2002-09-11    0.409006\n",
       "2002-09-12   -0.516322\n",
       "2002-09-13   -0.585865\n",
       "2002-09-14    1.014319\n",
       "2002-09-15   -0.688460\n",
       "2002-09-16   -0.190564\n",
       "2002-09-17    0.866468\n",
       "2002-09-18    0.827321\n",
       "2002-09-19    0.152031\n",
       "2002-09-20   -0.214196\n",
       "2002-09-21    1.115367\n",
       "2002-09-22   -0.431023\n",
       "2002-09-23    0.311025\n",
       "2002-09-24    1.408896\n",
       "2002-09-25   -0.255684\n",
       "2002-09-26   -0.862227\n",
       "Freq: D, Length: 1000, dtype: float64"
      ]
     },
     "execution_count": 56,
     "metadata": {},
     "output_type": "execute_result"
    }
   ],
   "source": [
    "longer_ts"
   ]
  },
  {
   "cell_type": "code",
   "execution_count": 57,
   "metadata": {},
   "outputs": [
    {
     "data": {
      "text/plain": [
       "2001-01-01   -1.029551\n",
       "2001-01-02   -0.224789\n",
       "2001-01-03    1.908026\n",
       "2001-01-04    0.195015\n",
       "2001-01-05   -0.611883\n",
       "2001-01-06   -1.235015\n",
       "2001-01-07   -0.798009\n",
       "2001-01-08    1.177807\n",
       "2001-01-09   -1.051397\n",
       "2001-01-10   -2.159344\n",
       "2001-01-11    1.274017\n",
       "2001-01-12   -0.326434\n",
       "2001-01-13    0.771263\n",
       "2001-01-14   -1.329958\n",
       "2001-01-15    0.058137\n",
       "2001-01-16   -0.508649\n",
       "2001-01-17   -1.279727\n",
       "2001-01-18    0.375526\n",
       "2001-01-19   -1.026023\n",
       "2001-01-20    0.085600\n",
       "2001-01-21    1.583055\n",
       "2001-01-22    0.856182\n",
       "2001-01-23   -1.169110\n",
       "2001-01-24   -0.218368\n",
       "2001-01-25    1.647112\n",
       "2001-01-26   -1.519357\n",
       "2001-01-27   -1.060918\n",
       "2001-01-28    0.251212\n",
       "2001-01-29   -0.428888\n",
       "2001-01-30    0.419979\n",
       "                ...   \n",
       "2001-12-02    2.096028\n",
       "2001-12-03    0.315317\n",
       "2001-12-04   -0.807431\n",
       "2001-12-05   -0.694198\n",
       "2001-12-06   -0.474778\n",
       "2001-12-07    0.689222\n",
       "2001-12-08    0.267712\n",
       "2001-12-09   -1.798894\n",
       "2001-12-10   -1.774409\n",
       "2001-12-11   -1.775113\n",
       "2001-12-12   -0.000138\n",
       "2001-12-13    1.025231\n",
       "2001-12-14    0.243476\n",
       "2001-12-15   -2.139437\n",
       "2001-12-16   -0.330814\n",
       "2001-12-17   -0.817423\n",
       "2001-12-18    0.682538\n",
       "2001-12-19    0.733995\n",
       "2001-12-20   -1.669826\n",
       "2001-12-21    0.277733\n",
       "2001-12-22    0.744301\n",
       "2001-12-23   -0.338644\n",
       "2001-12-24   -1.007159\n",
       "2001-12-25    0.029265\n",
       "2001-12-26   -0.321737\n",
       "2001-12-27   -0.391796\n",
       "2001-12-28   -0.905077\n",
       "2001-12-29   -0.032570\n",
       "2001-12-30    0.144077\n",
       "2001-12-31    1.541171\n",
       "Freq: D, Length: 365, dtype: float64"
      ]
     },
     "execution_count": 57,
     "metadata": {},
     "output_type": "execute_result"
    }
   ],
   "source": [
    "longer_ts['2001']"
   ]
  },
  {
   "cell_type": "code",
   "execution_count": 59,
   "metadata": {},
   "outputs": [
    {
     "data": {
      "text/plain": [
       "2011-01-07   -0.363769\n",
       "2011-01-08    1.564592\n",
       "2011-01-10   -0.172646\n",
       "2011-01-12    0.079676\n",
       "dtype: float64"
      ]
     },
     "execution_count": 59,
     "metadata": {},
     "output_type": "execute_result"
    }
   ],
   "source": [
    "ts[datetime(2011,1,7):]"
   ]
  },
  {
   "cell_type": "code",
   "execution_count": 60,
   "metadata": {},
   "outputs": [
    {
     "data": {
      "text/plain": [
       "2011-01-02   -0.707914\n",
       "2011-01-05   -1.745405\n",
       "2011-01-07   -0.363769\n",
       "2011-01-08    1.564592\n",
       "2011-01-10   -0.172646\n",
       "2011-01-12    0.079676\n",
       "dtype: float64"
      ]
     },
     "execution_count": 60,
     "metadata": {},
     "output_type": "execute_result"
    }
   ],
   "source": [
    "ts"
   ]
  },
  {
   "cell_type": "code",
   "execution_count": 61,
   "metadata": {},
   "outputs": [
    {
     "data": {
      "text/plain": [
       "2011-01-02   -0.707914\n",
       "2011-01-05   -1.745405\n",
       "2011-01-07   -0.363769\n",
       "2011-01-08    1.564592\n",
       "dtype: float64"
      ]
     },
     "execution_count": 61,
     "metadata": {},
     "output_type": "execute_result"
    }
   ],
   "source": [
    "ts.truncate(after='1/9/2011')"
   ]
  },
  {
   "cell_type": "code",
   "execution_count": 62,
   "metadata": {},
   "outputs": [],
   "source": [
    "dates=pd.date_range('1/1/2000',periods=100,freq='W-WED')"
   ]
  },
  {
   "cell_type": "code",
   "execution_count": 63,
   "metadata": {},
   "outputs": [
    {
     "data": {
      "text/plain": [
       "DatetimeIndex(['2000-01-05', '2000-01-12', '2000-01-19', '2000-01-26',\n",
       "               '2000-02-02', '2000-02-09', '2000-02-16', '2000-02-23',\n",
       "               '2000-03-01', '2000-03-08', '2000-03-15', '2000-03-22',\n",
       "               '2000-03-29', '2000-04-05', '2000-04-12', '2000-04-19',\n",
       "               '2000-04-26', '2000-05-03', '2000-05-10', '2000-05-17',\n",
       "               '2000-05-24', '2000-05-31', '2000-06-07', '2000-06-14',\n",
       "               '2000-06-21', '2000-06-28', '2000-07-05', '2000-07-12',\n",
       "               '2000-07-19', '2000-07-26', '2000-08-02', '2000-08-09',\n",
       "               '2000-08-16', '2000-08-23', '2000-08-30', '2000-09-06',\n",
       "               '2000-09-13', '2000-09-20', '2000-09-27', '2000-10-04',\n",
       "               '2000-10-11', '2000-10-18', '2000-10-25', '2000-11-01',\n",
       "               '2000-11-08', '2000-11-15', '2000-11-22', '2000-11-29',\n",
       "               '2000-12-06', '2000-12-13', '2000-12-20', '2000-12-27',\n",
       "               '2001-01-03', '2001-01-10', '2001-01-17', '2001-01-24',\n",
       "               '2001-01-31', '2001-02-07', '2001-02-14', '2001-02-21',\n",
       "               '2001-02-28', '2001-03-07', '2001-03-14', '2001-03-21',\n",
       "               '2001-03-28', '2001-04-04', '2001-04-11', '2001-04-18',\n",
       "               '2001-04-25', '2001-05-02', '2001-05-09', '2001-05-16',\n",
       "               '2001-05-23', '2001-05-30', '2001-06-06', '2001-06-13',\n",
       "               '2001-06-20', '2001-06-27', '2001-07-04', '2001-07-11',\n",
       "               '2001-07-18', '2001-07-25', '2001-08-01', '2001-08-08',\n",
       "               '2001-08-15', '2001-08-22', '2001-08-29', '2001-09-05',\n",
       "               '2001-09-12', '2001-09-19', '2001-09-26', '2001-10-03',\n",
       "               '2001-10-10', '2001-10-17', '2001-10-24', '2001-10-31',\n",
       "               '2001-11-07', '2001-11-14', '2001-11-21', '2001-11-28'],\n",
       "              dtype='datetime64[ns]', freq='W-WED')"
      ]
     },
     "execution_count": 63,
     "metadata": {},
     "output_type": "execute_result"
    }
   ],
   "source": [
    "dates"
   ]
  },
  {
   "cell_type": "code",
   "execution_count": 65,
   "metadata": {},
   "outputs": [],
   "source": [
    "long_df=pd.DataFrame(np.random.randn(100,4),index=dates,columns=['Colorado','Texas','New York','Ohio'])"
   ]
  },
  {
   "cell_type": "code",
   "execution_count": 66,
   "metadata": {},
   "outputs": [
    {
     "data": {
      "text/html": [
       "<div>\n",
       "<style scoped>\n",
       "    .dataframe tbody tr th:only-of-type {\n",
       "        vertical-align: middle;\n",
       "    }\n",
       "\n",
       "    .dataframe tbody tr th {\n",
       "        vertical-align: top;\n",
       "    }\n",
       "\n",
       "    .dataframe thead th {\n",
       "        text-align: right;\n",
       "    }\n",
       "</style>\n",
       "<table border=\"1\" class=\"dataframe\">\n",
       "  <thead>\n",
       "    <tr style=\"text-align: right;\">\n",
       "      <th></th>\n",
       "      <th>Colorado</th>\n",
       "      <th>Texas</th>\n",
       "      <th>New York</th>\n",
       "      <th>Ohio</th>\n",
       "    </tr>\n",
       "  </thead>\n",
       "  <tbody>\n",
       "    <tr>\n",
       "      <th>2000-01-05</th>\n",
       "      <td>-1.282822</td>\n",
       "      <td>-0.089998</td>\n",
       "      <td>0.764978</td>\n",
       "      <td>0.969041</td>\n",
       "    </tr>\n",
       "    <tr>\n",
       "      <th>2000-01-12</th>\n",
       "      <td>1.066402</td>\n",
       "      <td>1.302354</td>\n",
       "      <td>-0.472431</td>\n",
       "      <td>0.687169</td>\n",
       "    </tr>\n",
       "    <tr>\n",
       "      <th>2000-01-19</th>\n",
       "      <td>0.760778</td>\n",
       "      <td>0.857081</td>\n",
       "      <td>-1.480864</td>\n",
       "      <td>0.517263</td>\n",
       "    </tr>\n",
       "    <tr>\n",
       "      <th>2000-01-26</th>\n",
       "      <td>-1.022016</td>\n",
       "      <td>-1.536031</td>\n",
       "      <td>1.030829</td>\n",
       "      <td>0.643037</td>\n",
       "    </tr>\n",
       "    <tr>\n",
       "      <th>2000-02-02</th>\n",
       "      <td>-0.040454</td>\n",
       "      <td>0.404075</td>\n",
       "      <td>-0.035761</td>\n",
       "      <td>-0.143893</td>\n",
       "    </tr>\n",
       "    <tr>\n",
       "      <th>2000-02-09</th>\n",
       "      <td>-1.044497</td>\n",
       "      <td>0.357385</td>\n",
       "      <td>-0.577841</td>\n",
       "      <td>1.399384</td>\n",
       "    </tr>\n",
       "    <tr>\n",
       "      <th>2000-02-16</th>\n",
       "      <td>-0.949968</td>\n",
       "      <td>-0.828971</td>\n",
       "      <td>0.918753</td>\n",
       "      <td>0.316049</td>\n",
       "    </tr>\n",
       "    <tr>\n",
       "      <th>2000-02-23</th>\n",
       "      <td>-0.414631</td>\n",
       "      <td>-0.485732</td>\n",
       "      <td>1.458172</td>\n",
       "      <td>-0.876084</td>\n",
       "    </tr>\n",
       "    <tr>\n",
       "      <th>2000-03-01</th>\n",
       "      <td>0.726515</td>\n",
       "      <td>-0.078367</td>\n",
       "      <td>0.150795</td>\n",
       "      <td>0.074617</td>\n",
       "    </tr>\n",
       "    <tr>\n",
       "      <th>2000-03-08</th>\n",
       "      <td>0.564935</td>\n",
       "      <td>-1.881116</td>\n",
       "      <td>0.871981</td>\n",
       "      <td>-1.344326</td>\n",
       "    </tr>\n",
       "    <tr>\n",
       "      <th>2000-03-15</th>\n",
       "      <td>0.536333</td>\n",
       "      <td>0.719705</td>\n",
       "      <td>1.927924</td>\n",
       "      <td>-0.935356</td>\n",
       "    </tr>\n",
       "    <tr>\n",
       "      <th>2000-03-22</th>\n",
       "      <td>-0.450820</td>\n",
       "      <td>-0.666765</td>\n",
       "      <td>-0.280308</td>\n",
       "      <td>-0.523821</td>\n",
       "    </tr>\n",
       "    <tr>\n",
       "      <th>2000-03-29</th>\n",
       "      <td>0.753576</td>\n",
       "      <td>-1.423410</td>\n",
       "      <td>0.389493</td>\n",
       "      <td>1.006809</td>\n",
       "    </tr>\n",
       "    <tr>\n",
       "      <th>2000-04-05</th>\n",
       "      <td>1.466985</td>\n",
       "      <td>1.318089</td>\n",
       "      <td>-0.071049</td>\n",
       "      <td>-1.746800</td>\n",
       "    </tr>\n",
       "    <tr>\n",
       "      <th>2000-04-12</th>\n",
       "      <td>1.130662</td>\n",
       "      <td>1.015356</td>\n",
       "      <td>1.326719</td>\n",
       "      <td>-1.518436</td>\n",
       "    </tr>\n",
       "    <tr>\n",
       "      <th>2000-04-19</th>\n",
       "      <td>-1.405888</td>\n",
       "      <td>-0.413349</td>\n",
       "      <td>1.809908</td>\n",
       "      <td>-1.411125</td>\n",
       "    </tr>\n",
       "    <tr>\n",
       "      <th>2000-04-26</th>\n",
       "      <td>-0.755678</td>\n",
       "      <td>-1.116950</td>\n",
       "      <td>0.657095</td>\n",
       "      <td>0.000282</td>\n",
       "    </tr>\n",
       "    <tr>\n",
       "      <th>2000-05-03</th>\n",
       "      <td>-0.572195</td>\n",
       "      <td>-0.131435</td>\n",
       "      <td>-1.081870</td>\n",
       "      <td>-0.082915</td>\n",
       "    </tr>\n",
       "    <tr>\n",
       "      <th>2000-05-10</th>\n",
       "      <td>-0.344998</td>\n",
       "      <td>-1.880509</td>\n",
       "      <td>0.428448</td>\n",
       "      <td>-0.183089</td>\n",
       "    </tr>\n",
       "    <tr>\n",
       "      <th>2000-05-17</th>\n",
       "      <td>1.372605</td>\n",
       "      <td>0.726230</td>\n",
       "      <td>0.153962</td>\n",
       "      <td>-0.108300</td>\n",
       "    </tr>\n",
       "    <tr>\n",
       "      <th>2000-05-24</th>\n",
       "      <td>-0.514166</td>\n",
       "      <td>-0.006478</td>\n",
       "      <td>-1.329929</td>\n",
       "      <td>1.547261</td>\n",
       "    </tr>\n",
       "    <tr>\n",
       "      <th>2000-05-31</th>\n",
       "      <td>-0.872427</td>\n",
       "      <td>-0.763179</td>\n",
       "      <td>-0.985603</td>\n",
       "      <td>-0.175548</td>\n",
       "    </tr>\n",
       "    <tr>\n",
       "      <th>2000-06-07</th>\n",
       "      <td>0.323915</td>\n",
       "      <td>-0.059011</td>\n",
       "      <td>-0.467158</td>\n",
       "      <td>0.863111</td>\n",
       "    </tr>\n",
       "    <tr>\n",
       "      <th>2000-06-14</th>\n",
       "      <td>0.447615</td>\n",
       "      <td>0.709724</td>\n",
       "      <td>0.381534</td>\n",
       "      <td>-0.693081</td>\n",
       "    </tr>\n",
       "    <tr>\n",
       "      <th>2000-06-21</th>\n",
       "      <td>0.348282</td>\n",
       "      <td>0.992310</td>\n",
       "      <td>0.894224</td>\n",
       "      <td>0.680498</td>\n",
       "    </tr>\n",
       "    <tr>\n",
       "      <th>2000-06-28</th>\n",
       "      <td>-0.999401</td>\n",
       "      <td>0.470830</td>\n",
       "      <td>0.895442</td>\n",
       "      <td>-0.076232</td>\n",
       "    </tr>\n",
       "    <tr>\n",
       "      <th>2000-07-05</th>\n",
       "      <td>-1.100915</td>\n",
       "      <td>0.481937</td>\n",
       "      <td>-0.569154</td>\n",
       "      <td>0.885804</td>\n",
       "    </tr>\n",
       "    <tr>\n",
       "      <th>2000-07-12</th>\n",
       "      <td>-0.698191</td>\n",
       "      <td>-0.525799</td>\n",
       "      <td>-0.847661</td>\n",
       "      <td>-0.928512</td>\n",
       "    </tr>\n",
       "    <tr>\n",
       "      <th>2000-07-19</th>\n",
       "      <td>1.726684</td>\n",
       "      <td>1.141388</td>\n",
       "      <td>0.827335</td>\n",
       "      <td>-0.976767</td>\n",
       "    </tr>\n",
       "    <tr>\n",
       "      <th>2000-07-26</th>\n",
       "      <td>0.991124</td>\n",
       "      <td>-2.229118</td>\n",
       "      <td>-0.144596</td>\n",
       "      <td>-1.234246</td>\n",
       "    </tr>\n",
       "    <tr>\n",
       "      <th>...</th>\n",
       "      <td>...</td>\n",
       "      <td>...</td>\n",
       "      <td>...</td>\n",
       "      <td>...</td>\n",
       "    </tr>\n",
       "    <tr>\n",
       "      <th>2001-05-09</th>\n",
       "      <td>-2.384431</td>\n",
       "      <td>0.633712</td>\n",
       "      <td>0.233935</td>\n",
       "      <td>1.310095</td>\n",
       "    </tr>\n",
       "    <tr>\n",
       "      <th>2001-05-16</th>\n",
       "      <td>-0.104614</td>\n",
       "      <td>-0.262459</td>\n",
       "      <td>1.212886</td>\n",
       "      <td>-0.148903</td>\n",
       "    </tr>\n",
       "    <tr>\n",
       "      <th>2001-05-23</th>\n",
       "      <td>-0.955780</td>\n",
       "      <td>-1.080380</td>\n",
       "      <td>-0.668446</td>\n",
       "      <td>-1.894117</td>\n",
       "    </tr>\n",
       "    <tr>\n",
       "      <th>2001-05-30</th>\n",
       "      <td>-0.232281</td>\n",
       "      <td>2.137386</td>\n",
       "      <td>0.473664</td>\n",
       "      <td>-0.587323</td>\n",
       "    </tr>\n",
       "    <tr>\n",
       "      <th>2001-06-06</th>\n",
       "      <td>0.115842</td>\n",
       "      <td>0.558967</td>\n",
       "      <td>0.101878</td>\n",
       "      <td>-0.185671</td>\n",
       "    </tr>\n",
       "    <tr>\n",
       "      <th>2001-06-13</th>\n",
       "      <td>-0.523374</td>\n",
       "      <td>-2.422665</td>\n",
       "      <td>0.278129</td>\n",
       "      <td>0.722487</td>\n",
       "    </tr>\n",
       "    <tr>\n",
       "      <th>2001-06-20</th>\n",
       "      <td>-1.649061</td>\n",
       "      <td>0.582767</td>\n",
       "      <td>0.491622</td>\n",
       "      <td>-0.157763</td>\n",
       "    </tr>\n",
       "    <tr>\n",
       "      <th>2001-06-27</th>\n",
       "      <td>1.495696</td>\n",
       "      <td>-0.950518</td>\n",
       "      <td>-0.071113</td>\n",
       "      <td>1.410656</td>\n",
       "    </tr>\n",
       "    <tr>\n",
       "      <th>2001-07-04</th>\n",
       "      <td>1.676703</td>\n",
       "      <td>-1.371016</td>\n",
       "      <td>-0.295867</td>\n",
       "      <td>1.274092</td>\n",
       "    </tr>\n",
       "    <tr>\n",
       "      <th>2001-07-11</th>\n",
       "      <td>0.252776</td>\n",
       "      <td>0.706276</td>\n",
       "      <td>-0.165551</td>\n",
       "      <td>-0.822976</td>\n",
       "    </tr>\n",
       "    <tr>\n",
       "      <th>2001-07-18</th>\n",
       "      <td>-1.020038</td>\n",
       "      <td>-0.461816</td>\n",
       "      <td>-0.464256</td>\n",
       "      <td>1.084073</td>\n",
       "    </tr>\n",
       "    <tr>\n",
       "      <th>2001-07-25</th>\n",
       "      <td>-2.000551</td>\n",
       "      <td>0.898680</td>\n",
       "      <td>-1.102823</td>\n",
       "      <td>-0.456609</td>\n",
       "    </tr>\n",
       "    <tr>\n",
       "      <th>2001-08-01</th>\n",
       "      <td>1.065631</td>\n",
       "      <td>0.220130</td>\n",
       "      <td>-0.264134</td>\n",
       "      <td>0.132870</td>\n",
       "    </tr>\n",
       "    <tr>\n",
       "      <th>2001-08-08</th>\n",
       "      <td>-0.856313</td>\n",
       "      <td>-0.701146</td>\n",
       "      <td>-0.249722</td>\n",
       "      <td>-2.376030</td>\n",
       "    </tr>\n",
       "    <tr>\n",
       "      <th>2001-08-15</th>\n",
       "      <td>0.244766</td>\n",
       "      <td>0.987989</td>\n",
       "      <td>-2.200245</td>\n",
       "      <td>0.231414</td>\n",
       "    </tr>\n",
       "    <tr>\n",
       "      <th>2001-08-22</th>\n",
       "      <td>1.092835</td>\n",
       "      <td>0.004686</td>\n",
       "      <td>-0.760460</td>\n",
       "      <td>0.102300</td>\n",
       "    </tr>\n",
       "    <tr>\n",
       "      <th>2001-08-29</th>\n",
       "      <td>0.367786</td>\n",
       "      <td>1.568086</td>\n",
       "      <td>-0.830482</td>\n",
       "      <td>1.562898</td>\n",
       "    </tr>\n",
       "    <tr>\n",
       "      <th>2001-09-05</th>\n",
       "      <td>-0.651134</td>\n",
       "      <td>-0.834631</td>\n",
       "      <td>1.513709</td>\n",
       "      <td>-0.634864</td>\n",
       "    </tr>\n",
       "    <tr>\n",
       "      <th>2001-09-12</th>\n",
       "      <td>0.277573</td>\n",
       "      <td>1.375201</td>\n",
       "      <td>-0.780831</td>\n",
       "      <td>-1.320584</td>\n",
       "    </tr>\n",
       "    <tr>\n",
       "      <th>2001-09-19</th>\n",
       "      <td>-0.367584</td>\n",
       "      <td>0.008114</td>\n",
       "      <td>-0.731151</td>\n",
       "      <td>-0.023260</td>\n",
       "    </tr>\n",
       "    <tr>\n",
       "      <th>2001-09-26</th>\n",
       "      <td>0.529433</td>\n",
       "      <td>-2.113467</td>\n",
       "      <td>-0.534591</td>\n",
       "      <td>-0.504362</td>\n",
       "    </tr>\n",
       "    <tr>\n",
       "      <th>2001-10-03</th>\n",
       "      <td>-0.805830</td>\n",
       "      <td>0.386621</td>\n",
       "      <td>0.836495</td>\n",
       "      <td>0.818050</td>\n",
       "    </tr>\n",
       "    <tr>\n",
       "      <th>2001-10-10</th>\n",
       "      <td>0.947672</td>\n",
       "      <td>1.259515</td>\n",
       "      <td>0.175243</td>\n",
       "      <td>1.839953</td>\n",
       "    </tr>\n",
       "    <tr>\n",
       "      <th>2001-10-17</th>\n",
       "      <td>-0.915250</td>\n",
       "      <td>-0.881589</td>\n",
       "      <td>0.760740</td>\n",
       "      <td>2.360061</td>\n",
       "    </tr>\n",
       "    <tr>\n",
       "      <th>2001-10-24</th>\n",
       "      <td>0.068763</td>\n",
       "      <td>1.751627</td>\n",
       "      <td>-0.025436</td>\n",
       "      <td>0.457049</td>\n",
       "    </tr>\n",
       "    <tr>\n",
       "      <th>2001-10-31</th>\n",
       "      <td>-1.470922</td>\n",
       "      <td>-0.502379</td>\n",
       "      <td>-0.815432</td>\n",
       "      <td>0.630981</td>\n",
       "    </tr>\n",
       "    <tr>\n",
       "      <th>2001-11-07</th>\n",
       "      <td>-0.145174</td>\n",
       "      <td>0.718454</td>\n",
       "      <td>1.610158</td>\n",
       "      <td>1.113634</td>\n",
       "    </tr>\n",
       "    <tr>\n",
       "      <th>2001-11-14</th>\n",
       "      <td>-0.327364</td>\n",
       "      <td>-0.607712</td>\n",
       "      <td>0.786715</td>\n",
       "      <td>0.213503</td>\n",
       "    </tr>\n",
       "    <tr>\n",
       "      <th>2001-11-21</th>\n",
       "      <td>-0.343875</td>\n",
       "      <td>2.029568</td>\n",
       "      <td>-0.721469</td>\n",
       "      <td>-2.125130</td>\n",
       "    </tr>\n",
       "    <tr>\n",
       "      <th>2001-11-28</th>\n",
       "      <td>0.541257</td>\n",
       "      <td>-0.456611</td>\n",
       "      <td>-1.826087</td>\n",
       "      <td>-0.795609</td>\n",
       "    </tr>\n",
       "  </tbody>\n",
       "</table>\n",
       "<p>100 rows × 4 columns</p>\n",
       "</div>"
      ],
      "text/plain": [
       "            Colorado     Texas  New York      Ohio\n",
       "2000-01-05 -1.282822 -0.089998  0.764978  0.969041\n",
       "2000-01-12  1.066402  1.302354 -0.472431  0.687169\n",
       "2000-01-19  0.760778  0.857081 -1.480864  0.517263\n",
       "2000-01-26 -1.022016 -1.536031  1.030829  0.643037\n",
       "2000-02-02 -0.040454  0.404075 -0.035761 -0.143893\n",
       "2000-02-09 -1.044497  0.357385 -0.577841  1.399384\n",
       "2000-02-16 -0.949968 -0.828971  0.918753  0.316049\n",
       "2000-02-23 -0.414631 -0.485732  1.458172 -0.876084\n",
       "2000-03-01  0.726515 -0.078367  0.150795  0.074617\n",
       "2000-03-08  0.564935 -1.881116  0.871981 -1.344326\n",
       "2000-03-15  0.536333  0.719705  1.927924 -0.935356\n",
       "2000-03-22 -0.450820 -0.666765 -0.280308 -0.523821\n",
       "2000-03-29  0.753576 -1.423410  0.389493  1.006809\n",
       "2000-04-05  1.466985  1.318089 -0.071049 -1.746800\n",
       "2000-04-12  1.130662  1.015356  1.326719 -1.518436\n",
       "2000-04-19 -1.405888 -0.413349  1.809908 -1.411125\n",
       "2000-04-26 -0.755678 -1.116950  0.657095  0.000282\n",
       "2000-05-03 -0.572195 -0.131435 -1.081870 -0.082915\n",
       "2000-05-10 -0.344998 -1.880509  0.428448 -0.183089\n",
       "2000-05-17  1.372605  0.726230  0.153962 -0.108300\n",
       "2000-05-24 -0.514166 -0.006478 -1.329929  1.547261\n",
       "2000-05-31 -0.872427 -0.763179 -0.985603 -0.175548\n",
       "2000-06-07  0.323915 -0.059011 -0.467158  0.863111\n",
       "2000-06-14  0.447615  0.709724  0.381534 -0.693081\n",
       "2000-06-21  0.348282  0.992310  0.894224  0.680498\n",
       "2000-06-28 -0.999401  0.470830  0.895442 -0.076232\n",
       "2000-07-05 -1.100915  0.481937 -0.569154  0.885804\n",
       "2000-07-12 -0.698191 -0.525799 -0.847661 -0.928512\n",
       "2000-07-19  1.726684  1.141388  0.827335 -0.976767\n",
       "2000-07-26  0.991124 -2.229118 -0.144596 -1.234246\n",
       "...              ...       ...       ...       ...\n",
       "2001-05-09 -2.384431  0.633712  0.233935  1.310095\n",
       "2001-05-16 -0.104614 -0.262459  1.212886 -0.148903\n",
       "2001-05-23 -0.955780 -1.080380 -0.668446 -1.894117\n",
       "2001-05-30 -0.232281  2.137386  0.473664 -0.587323\n",
       "2001-06-06  0.115842  0.558967  0.101878 -0.185671\n",
       "2001-06-13 -0.523374 -2.422665  0.278129  0.722487\n",
       "2001-06-20 -1.649061  0.582767  0.491622 -0.157763\n",
       "2001-06-27  1.495696 -0.950518 -0.071113  1.410656\n",
       "2001-07-04  1.676703 -1.371016 -0.295867  1.274092\n",
       "2001-07-11  0.252776  0.706276 -0.165551 -0.822976\n",
       "2001-07-18 -1.020038 -0.461816 -0.464256  1.084073\n",
       "2001-07-25 -2.000551  0.898680 -1.102823 -0.456609\n",
       "2001-08-01  1.065631  0.220130 -0.264134  0.132870\n",
       "2001-08-08 -0.856313 -0.701146 -0.249722 -2.376030\n",
       "2001-08-15  0.244766  0.987989 -2.200245  0.231414\n",
       "2001-08-22  1.092835  0.004686 -0.760460  0.102300\n",
       "2001-08-29  0.367786  1.568086 -0.830482  1.562898\n",
       "2001-09-05 -0.651134 -0.834631  1.513709 -0.634864\n",
       "2001-09-12  0.277573  1.375201 -0.780831 -1.320584\n",
       "2001-09-19 -0.367584  0.008114 -0.731151 -0.023260\n",
       "2001-09-26  0.529433 -2.113467 -0.534591 -0.504362\n",
       "2001-10-03 -0.805830  0.386621  0.836495  0.818050\n",
       "2001-10-10  0.947672  1.259515  0.175243  1.839953\n",
       "2001-10-17 -0.915250 -0.881589  0.760740  2.360061\n",
       "2001-10-24  0.068763  1.751627 -0.025436  0.457049\n",
       "2001-10-31 -1.470922 -0.502379 -0.815432  0.630981\n",
       "2001-11-07 -0.145174  0.718454  1.610158  1.113634\n",
       "2001-11-14 -0.327364 -0.607712  0.786715  0.213503\n",
       "2001-11-21 -0.343875  2.029568 -0.721469 -2.125130\n",
       "2001-11-28  0.541257 -0.456611 -1.826087 -0.795609\n",
       "\n",
       "[100 rows x 4 columns]"
      ]
     },
     "execution_count": 66,
     "metadata": {},
     "output_type": "execute_result"
    }
   ],
   "source": [
    "long_df"
   ]
  },
  {
   "cell_type": "code",
   "execution_count": 68,
   "metadata": {},
   "outputs": [
    {
     "data": {
      "text/html": [
       "<div>\n",
       "<style scoped>\n",
       "    .dataframe tbody tr th:only-of-type {\n",
       "        vertical-align: middle;\n",
       "    }\n",
       "\n",
       "    .dataframe tbody tr th {\n",
       "        vertical-align: top;\n",
       "    }\n",
       "\n",
       "    .dataframe thead th {\n",
       "        text-align: right;\n",
       "    }\n",
       "</style>\n",
       "<table border=\"1\" class=\"dataframe\">\n",
       "  <thead>\n",
       "    <tr style=\"text-align: right;\">\n",
       "      <th></th>\n",
       "      <th>Colorado</th>\n",
       "      <th>Texas</th>\n",
       "      <th>New York</th>\n",
       "      <th>Ohio</th>\n",
       "    </tr>\n",
       "  </thead>\n",
       "  <tbody>\n",
       "    <tr>\n",
       "      <th>2001-05-02</th>\n",
       "      <td>-0.319108</td>\n",
       "      <td>-0.993807</td>\n",
       "      <td>1.023467</td>\n",
       "      <td>0.417774</td>\n",
       "    </tr>\n",
       "    <tr>\n",
       "      <th>2001-05-09</th>\n",
       "      <td>-2.384431</td>\n",
       "      <td>0.633712</td>\n",
       "      <td>0.233935</td>\n",
       "      <td>1.310095</td>\n",
       "    </tr>\n",
       "    <tr>\n",
       "      <th>2001-05-16</th>\n",
       "      <td>-0.104614</td>\n",
       "      <td>-0.262459</td>\n",
       "      <td>1.212886</td>\n",
       "      <td>-0.148903</td>\n",
       "    </tr>\n",
       "    <tr>\n",
       "      <th>2001-05-23</th>\n",
       "      <td>-0.955780</td>\n",
       "      <td>-1.080380</td>\n",
       "      <td>-0.668446</td>\n",
       "      <td>-1.894117</td>\n",
       "    </tr>\n",
       "    <tr>\n",
       "      <th>2001-05-30</th>\n",
       "      <td>-0.232281</td>\n",
       "      <td>2.137386</td>\n",
       "      <td>0.473664</td>\n",
       "      <td>-0.587323</td>\n",
       "    </tr>\n",
       "  </tbody>\n",
       "</table>\n",
       "</div>"
      ],
      "text/plain": [
       "            Colorado     Texas  New York      Ohio\n",
       "2001-05-02 -0.319108 -0.993807  1.023467  0.417774\n",
       "2001-05-09 -2.384431  0.633712  0.233935  1.310095\n",
       "2001-05-16 -0.104614 -0.262459  1.212886 -0.148903\n",
       "2001-05-23 -0.955780 -1.080380 -0.668446 -1.894117\n",
       "2001-05-30 -0.232281  2.137386  0.473664 -0.587323"
      ]
     },
     "execution_count": 68,
     "metadata": {},
     "output_type": "execute_result"
    }
   ],
   "source": [
    "long_df.loc['5-2001']"
   ]
  },
  {
   "cell_type": "code",
   "execution_count": null,
   "metadata": {},
   "outputs": [],
   "source": []
  },
  {
   "cell_type": "code",
   "execution_count": null,
   "metadata": {},
   "outputs": [],
   "source": []
  },
  {
   "cell_type": "code",
   "execution_count": null,
   "metadata": {},
   "outputs": [],
   "source": []
  },
  {
   "cell_type": "code",
   "execution_count": null,
   "metadata": {},
   "outputs": [],
   "source": []
  },
  {
   "cell_type": "code",
   "execution_count": null,
   "metadata": {},
   "outputs": [],
   "source": []
  },
  {
   "cell_type": "code",
   "execution_count": null,
   "metadata": {},
   "outputs": [],
   "source": []
  }
 ],
 "metadata": {
  "kernelspec": {
   "display_name": "Python 3",
   "language": "python",
   "name": "python3"
  },
  "language_info": {
   "codemirror_mode": {
    "name": "ipython",
    "version": 3
   },
   "file_extension": ".py",
   "mimetype": "text/x-python",
   "name": "python",
   "nbconvert_exporter": "python",
   "pygments_lexer": "ipython3",
   "version": "3.7.1"
  }
 },
 "nbformat": 4,
 "nbformat_minor": 2
}
